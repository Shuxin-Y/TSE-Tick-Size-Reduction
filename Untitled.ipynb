{
 "cells": [
  {
   "cell_type": "code",
   "execution_count": 1,
   "metadata": {
    "ExecuteTime": {
     "end_time": "2020-05-04T11:30:37.888731Z",
     "start_time": "2020-05-04T11:30:36.058984Z"
    },
    "code_folding": [
     0
    ]
   },
   "outputs": [
    {
     "data": {
      "application/javascript": [
       "if (!(\"Notification\" in window)) {\n",
       "    alert(\"This browser does not support desktop notifications, so the %%notify magic will not work.\");\n",
       "} else if (Notification.permission !== 'granted' && Notification.permission !== 'denied') {\n",
       "    Notification.requestPermission(function (permission) {\n",
       "        if(!('permission' in Notification)) {\n",
       "            Notification.permission = permission;\n",
       "        }\n",
       "    })\n",
       "}\n"
      ],
      "text/plain": [
       "<IPython.core.display.Javascript object>"
      ]
     },
     "metadata": {},
     "output_type": "display_data"
    }
   ],
   "source": [
    "# Import Modules \n",
    "import pandas as pd\n",
    "import numpy as np\n",
    "import math\n",
    "import datetime\n",
    "import statistics\n",
    "\n",
    "import os\n",
    "from tqdm import tqdm\n",
    "from tqdm import trange\n",
    "\n",
    "from linearmodels.panel import PanelOLS\n",
    "from linearmodels.panel import RandomEffects\n",
    "from linearmodels.panel import FamaMacBeth\n",
    "from linearmodels.panel import PooledOLS\n",
    "import statsmodels.api as sm  # Adding constant\n",
    "import statsmodels.formula.api as smf\n",
    "\n",
    "import matplotlib.pyplot as plt\n",
    "%matplotlib inline\n",
    "%config InlineBackend.figure_format='retina'\n",
    "# from jupyterthemes import jtplot\n",
    "# jtplot.style()\n",
    "\n",
    "import warnings\n",
    "warnings.filterwarnings('ignore')\n",
    "\n",
    "import jupyternotify\n",
    "ip = get_ipython()\n",
    "ip.register_magics(jupyternotify.JupyterNotifyMagics(ip))\n",
    "\n",
    "# from notify_run import Notify\n",
    "# notify = Notify()\n",
    "# notify.register()"
   ]
  },
  {
   "cell_type": "code",
   "execution_count": 2,
   "metadata": {
    "ExecuteTime": {
     "end_time": "2020-05-04T05:04:49.103202Z",
     "start_time": "2020-05-04T05:04:49.077853Z"
    },
    "code_folding": [
     0
    ]
   },
   "outputs": [],
   "source": [
    "def _portfolio(time):\n",
    "    A_1 = os.listdir('/Volumes/LaCie/Grouping_1/Post_Phase_1/A_1/2014-01-14')\n",
    "    N_1 = os.listdir('/Volumes/LaCie/Grouping_1/Post_Phase_1/N_1/2014-01-14')\n",
    "\n",
    "    A_2 = os.listdir('/Volumes/LaCie/Grouping_1/Post_Phase_2/A_2/2014-07-22')\n",
    "    B_12 = os.listdir('/Volumes/LaCie/Grouping_1/Post_Phase_2/B_12/2014-07-22')\n",
    "    O_2 = os.listdir('/Volumes/LaCie/Grouping_1/Post_Phase_2/O_2/2014-07-22')\n",
    "    N_2 = os.listdir('/Volumes/LaCie/Grouping_1/Post_Phase_2/N_2/2014-07-22')\n",
    "    \n",
    "    def _portsum(group,time,path,groupname,phasename):\n",
    "        port =[]\n",
    "        for fpathe, dirs,fs in os.walk(path):\n",
    "            for f in fs:\n",
    "                if f[-9:] in group:\n",
    "                    port.append(os.path.join(fpathe,f))\n",
    "\n",
    "        port_ret = pd.DataFrame([])\n",
    "        port_vol = pd.DataFrame([])\n",
    "        port_YenVol = pd.DataFrame([])\n",
    "        port_ilqd = pd.DataFrame([])\n",
    "        port_oib_num = pd.DataFrame([])\n",
    "        port_oib_shr = pd.DataFrame([])\n",
    "        port_oib_yen = pd.DataFrame([])\n",
    "        for i in port:\n",
    "            df = pd.read_csv(i)[['DateTime','Code',\n",
    "                                 'Return-%s'%time,'Volume-%s'%time,'Volume Yen-%s'%time, \n",
    "                                 'Illiquidity-%s'%time, \n",
    "                                 'OIB #-%s'%time, 'OIB shr-%s'%time, 'OIB Yen-%s'%time]]\n",
    "            df = df.set_index('DateTime')\n",
    "\n",
    "            df_ret = pd.DataFrame({i[-9:-4]: df['Return-%s'%time]})\n",
    "            df_vol = pd.DataFrame({i[-9:-4]: df['Volume-%s'%time]})\n",
    "            df_YenVol = pd.DataFrame({i[-9:-4]: df['Volume Yen-%s'%time]})\n",
    "            df_ilqd = pd.DataFrame({i[-9:-4]: df['Illiquidity-%s'%time]})\n",
    "            df_oib_num = pd.DataFrame({i[-9:-4]: df['OIB #-%s'%time]})\n",
    "            df_oib_shr = pd.DataFrame({i[-9:-4]: df['OIB shr-%s'%time]})\n",
    "            df_oib_yen = pd.DataFrame({i[-9:-4]: df['OIB Yen-%s'%time]})\n",
    "\n",
    "            port_ret = pd.concat([port_ret, df_ret], axis = 1)\n",
    "            port_vol = pd.concat([port_vol, df_vol], axis = 1)\n",
    "            port_YenVol = pd.concat([port_YenVol, df_YenVol], axis = 1)\n",
    "            port_ilqd = pd.concat([port_ilqd, df_ilqd], axis = 1)\n",
    "            port_oib_num = pd.concat([port_vol, df_oib_num], axis = 1)\n",
    "            port_oib_shr = pd.concat([port_YenVol, df_oib_shr], axis = 1)\n",
    "            port_oib_yen = pd.concat([port_ilqd, df_oib_yen], axis = 1)\n",
    "            \n",
    "\n",
    "        port_ret['Portfolio Return']=np.nanmean(port_ret,axis=1)\n",
    "        port_vol['Portfolio Volume']=np.nanmean(port_vol,axis=1)\n",
    "        port_YenVol['Portfolio Volume Yen']=np.nanmean(port_YenVol,axis=1)\n",
    "        port_ilqd['Portfolio Illiquidity']=np.nanmean(port_ilqd,axis=1)\n",
    "        port_oib_num['Portfolio OIB #']=np.nanmean(port_oib_num,axis=1)\n",
    "        port_oib_shr['Portfolio OIB shr']=np.nanmean(port_oib_shr,axis=1)\n",
    "        port_oib_yen['Portfolio OIB Yen']=np.nanmean(port_oib_yen,axis=1)\n",
    "\n",
    "        savepath = '/Volumes/LaCie/5_4/reg_Portfolio/%s/%s/%s/%s'%(\n",
    "                                                    time,groupname,phasename,path[-10:])\n",
    "        if not os.path.exists(savepath):\n",
    "            os.makedirs(savepath)\n",
    "        pd.DataFrame(port_ret).to_csv('%s/Return.csv'%(savepath))\n",
    "        pd.DataFrame(port_vol).to_csv('%s/Volume.csv'%(savepath))\n",
    "        pd.DataFrame(port_YenVol).to_csv('%s/Volume Yen.csv'%(savepath))\n",
    "        pd.DataFrame(port_ilqd).to_csv('%s/Illiquidity.csv'%(savepath))\n",
    "        pd.DataFrame(port_oib_num).to_csv('%s/OIB #.csv'%(savepath))\n",
    "        pd.DataFrame(port_oib_shr).to_csv('%s/OIB shr.csv'%(savepath))\n",
    "        pd.DataFrame(port_oib_yen).to_csv('%s/OIB Yen.csv'%(savepath))\n",
    "\n",
    "    for i in ['Pre_Phase_1','Post_Phase_1','Post_Phase_2']:\n",
    "        basepath = '/Volumes/LaCie/Processed/%s'%i\n",
    "        paths  = os.listdir(basepath)\n",
    "        pbar = tqdm(paths)\n",
    "        for pth in pbar:\n",
    "            if pth[-5:] != 'Store':\n",
    "                path = basepath +'/'+pth\n",
    "\n",
    "                if i == 'Pre_Phase_1':\n",
    "                    _portsum(A_1,time,path,'A1',i)\n",
    "                    _portsum(N_1,time,path,'N1',i)\n",
    "                    pbar.set_description(\"Processing %s\"%(pth))\n",
    "                elif i == 'Post_Phase_1':\n",
    "                    _portsum(A_1,time,path,'A1',i)\n",
    "                    _portsum(N_1,time,path,'N1',i)\n",
    "                    \n",
    "                    _portsum(A_2,time,path,'A2','Pre_Phase_2')\n",
    "                    _portsum(N_2,time,path,'N2','Pre_Phase_2')\n",
    "                    _portsum(O_2,time,path,'O2','Pre_Phase_2')\n",
    "                    _portsum(B_12,time,path,'B12','Pre_Phase_2')\n",
    "                    pbar.set_description(\"Processing %s\"%(pth))\n",
    "                elif i == 'Post_Phase_2':\n",
    "                    _portsum(A_2,time,path,'A2',i)\n",
    "                    _portsum(N_2,time,path,'N2',i)\n",
    "                    _portsum(O_2,time,path,'O2',i)\n",
    "                    _portsum(B_12,time,path,'B12',i)\n",
    "                    pbar.set_description(\"Processing %s\"%(pth))"
   ]
  },
  {
   "cell_type": "code",
   "execution_count": 3,
   "metadata": {
    "ExecuteTime": {
     "end_time": "2020-05-04T07:29:44.181739Z",
     "start_time": "2020-05-04T05:04:49.106485Z"
    },
    "code_folding": []
   },
   "outputs": [
    {
     "name": "stderr",
     "output_type": "stream",
     "text": [
      "Processing 2014-01-10: 100%|██████████| 131/131 [06:11<00:00,  2.84s/it]\n",
      "Processing 2014-07-18: 100%|██████████| 130/130 [14:59<00:00,  6.92s/it]\n",
      "Processing 2014-12-30: 100%|██████████| 111/111 [08:45<00:00,  4.73s/it]\n",
      "Processing 2014-01-10: 100%|██████████| 131/131 [06:12<00:00,  2.84s/it]\n",
      "Processing 2014-07-18: 100%|██████████| 130/130 [14:54<00:00,  6.88s/it]\n",
      "Processing 2014-12-30: 100%|██████████| 111/111 [08:13<00:00,  4.45s/it]\n",
      "Processing 2014-01-10: 100%|██████████| 131/131 [06:33<00:00,  3.00s/it]\n",
      "Processing 2014-07-18: 100%|██████████| 130/130 [14:51<00:00,  6.86s/it]\n",
      "Processing 2014-12-30: 100%|██████████| 111/111 [08:12<00:00,  4.44s/it]\n",
      "Processing 2014-01-10: 100%|██████████| 131/131 [06:05<00:00,  2.79s/it]\n",
      "Processing 2014-07-18: 100%|██████████| 130/130 [14:26<00:00,  6.67s/it]\n",
      "Processing 2014-12-30: 100%|██████████| 111/111 [08:16<00:00,  4.47s/it]\n",
      "Processing 2014-01-10: 100%|██████████| 131/131 [06:04<00:00,  2.78s/it]\n",
      "Processing 2014-07-18: 100%|██████████| 130/130 [13:23<00:00,  6.18s/it]\n",
      "Processing 2014-12-30: 100%|██████████| 111/111 [07:42<00:00,  4.16s/it]\n"
     ]
    },
    {
     "data": {
      "application/javascript": [
       "$(document).ready(\n",
       "    function() {\n",
       "        function appendUniqueDiv(){\n",
       "            // append a div with our uuid so we can check that it's already\n",
       "            // been sent and avoid duplicates on page reload\n",
       "            var notifiedDiv = document.createElement(\"div\")\n",
       "            notifiedDiv.id = \"11eb21b9-4477-496b-bcf1-6e4741a44ec3\"\n",
       "            element.append(notifiedDiv)\n",
       "        }\n",
       "\n",
       "        // only send notifications if the pageload is complete; this will\n",
       "        // help stop extra notifications when a saved notebook is loaded,\n",
       "        // which during testing gives us state \"interactive\", not \"complete\"\n",
       "        if (document.readyState === 'complete') {\n",
       "            // check for the div that signifies that the notification\n",
       "            // was already sent\n",
       "            if (document.getElementById(\"11eb21b9-4477-496b-bcf1-6e4741a44ec3\") === null) {\n",
       "                var notificationPayload = {\"requireInteraction\": false, \"icon\": \"/static/base/images/favicon.ico\", \"body\": \"Cell execution has finished!\"};\n",
       "                if (Notification.permission !== 'denied') {\n",
       "                    if (Notification.permission !== 'granted') { \n",
       "                        Notification.requestPermission(function (permission) {\n",
       "                            if(!('permission' in Notification)) {\n",
       "                                Notification.permission = permission\n",
       "                            }\n",
       "                        })\n",
       "                    }\n",
       "                    if (Notification.permission === 'granted') {\n",
       "                    var notification = new Notification(\"Jupyter Notebook\", notificationPayload)\n",
       "                    appendUniqueDiv()\n",
       "                    notification.onclick = function () {\n",
       "                        window.focus();\n",
       "                        this.close();\n",
       "                        };\n",
       "                    } \n",
       "                }     \n",
       "            }\n",
       "        }\n",
       "    }\n",
       ")\n"
      ],
      "text/plain": [
       "<IPython.core.display.Javascript object>"
      ]
     },
     "metadata": {},
     "output_type": "display_data"
    }
   ],
   "source": [
    "%%notify\n",
    "for t in ['10','15','30','45','60']:\n",
    "    _portfolio(t)"
   ]
  },
  {
   "cell_type": "code",
   "execution_count": 4,
   "metadata": {
    "ExecuteTime": {
     "end_time": "2020-05-04T07:29:44.196013Z",
     "start_time": "2020-05-04T07:29:44.183857Z"
    },
    "code_folding": [
     0
    ]
   },
   "outputs": [],
   "source": [
    "def _portsum(time):\n",
    "    from pathlib import Path\n",
    "    \n",
    "    grouppath = []\n",
    "    basepath = '/Volumes/LaCie/5_4/reg_Portfolio/%s'%time\n",
    "    for group in os.listdir(basepath):\n",
    "        if os.path.isdir(os.path.join(basepath, group)):\n",
    "            grouppath.append(basepath +'/'+ group)\n",
    "            \n",
    "    phasepath = []\n",
    "    for i in grouppath:\n",
    "        for phase in os.listdir(i):\n",
    "            if os.path.isdir(os.path.join(i, phase)):\n",
    "                phasepath.append(i +'/'+ phase)\n",
    "                \n",
    "    datepath = []\n",
    "    for i in phasepath:\n",
    "        for date in os.listdir(i):\n",
    "            if os.path.isdir(os.path.join(i, date)):\n",
    "                datepath.append(i +'/'+ date)\n",
    "\n",
    "    pbar = tqdm(datepath)\n",
    "    for i in pbar:\n",
    "        files = []\n",
    "        for fpathe, dirs,fs in os.walk(i):\n",
    "            for f in fs:\n",
    "                if f[-5:]!= 'Store':\n",
    "                    files.append(os.path.join(fpathe,f))\n",
    "        var = pd.DataFrame([])\n",
    "        for f in files:\n",
    "            if f[-9:] != 'folio.csv':\n",
    "                tmp = (pd.read_csv(f).iloc[:,[0,-1]]).set_index('DateTime')\n",
    "                var = pd.concat([var,tmp],axis=1)\n",
    "                var.to_csv('%s/reg_Portfolio.csv'%i)\n",
    "                pbar.set_description(\"Processing %s\"%(i))"
   ]
  },
  {
   "cell_type": "code",
   "execution_count": 5,
   "metadata": {
    "ExecuteTime": {
     "end_time": "2020-05-04T07:46:47.686620Z",
     "start_time": "2020-05-04T07:29:44.198083Z"
    },
    "code_folding": []
   },
   "outputs": [
    {
     "name": "stderr",
     "output_type": "stream",
     "text": [
      "Processing /Volumes/LaCie/5_4/reg_Portfolio/10/O2/Pre_Phase_2/2014-07-18: 100%|██████████| 1474/1474 [03:28<00:00,  7.06it/s] \n",
      "Processing /Volumes/LaCie/5_4/reg_Portfolio/15/O2/Pre_Phase_2/2014-07-18: 100%|██████████| 1474/1474 [03:21<00:00,  7.31it/s] \n",
      "Processing /Volumes/LaCie/5_4/reg_Portfolio/30/O2/Pre_Phase_2/2014-07-18: 100%|██████████| 1474/1474 [03:27<00:00,  7.10it/s] \n",
      "Processing /Volumes/LaCie/5_4/reg_Portfolio/45/O2/Pre_Phase_2/2014-07-18: 100%|██████████| 1474/1474 [03:31<00:00,  6.96it/s] \n",
      "Processing /Volumes/LaCie/5_4/reg_Portfolio/60/O2/Pre_Phase_2/2014-07-18: 100%|██████████| 1474/1474 [03:12<00:00,  7.65it/s] \n"
     ]
    },
    {
     "data": {
      "application/javascript": [
       "$(document).ready(\n",
       "    function() {\n",
       "        function appendUniqueDiv(){\n",
       "            // append a div with our uuid so we can check that it's already\n",
       "            // been sent and avoid duplicates on page reload\n",
       "            var notifiedDiv = document.createElement(\"div\")\n",
       "            notifiedDiv.id = \"62440084-dbcb-4025-a107-f5ec5e077ef9\"\n",
       "            element.append(notifiedDiv)\n",
       "        }\n",
       "\n",
       "        // only send notifications if the pageload is complete; this will\n",
       "        // help stop extra notifications when a saved notebook is loaded,\n",
       "        // which during testing gives us state \"interactive\", not \"complete\"\n",
       "        if (document.readyState === 'complete') {\n",
       "            // check for the div that signifies that the notification\n",
       "            // was already sent\n",
       "            if (document.getElementById(\"62440084-dbcb-4025-a107-f5ec5e077ef9\") === null) {\n",
       "                var notificationPayload = {\"requireInteraction\": false, \"icon\": \"/static/base/images/favicon.ico\", \"body\": \"Cell execution has finished!\"};\n",
       "                if (Notification.permission !== 'denied') {\n",
       "                    if (Notification.permission !== 'granted') { \n",
       "                        Notification.requestPermission(function (permission) {\n",
       "                            if(!('permission' in Notification)) {\n",
       "                                Notification.permission = permission\n",
       "                            }\n",
       "                        })\n",
       "                    }\n",
       "                    if (Notification.permission === 'granted') {\n",
       "                    var notification = new Notification(\"Jupyter Notebook\", notificationPayload)\n",
       "                    appendUniqueDiv()\n",
       "                    notification.onclick = function () {\n",
       "                        window.focus();\n",
       "                        this.close();\n",
       "                        };\n",
       "                    } \n",
       "                }     \n",
       "            }\n",
       "        }\n",
       "    }\n",
       ")\n"
      ],
      "text/plain": [
       "<IPython.core.display.Javascript object>"
      ]
     },
     "metadata": {},
     "output_type": "display_data"
    }
   ],
   "source": [
    "%%notify\n",
    "for t in ['10','15','30','45','60']:\n",
    "    _portsum(t)"
   ]
  },
  {
   "cell_type": "code",
   "execution_count": 6,
   "metadata": {
    "ExecuteTime": {
     "end_time": "2020-05-04T07:46:47.700254Z",
     "start_time": "2020-05-04T07:46:47.688335Z"
    },
    "code_folding": [
     0
    ]
   },
   "outputs": [],
   "source": [
    "def _wholeperiod(time):\n",
    "    def _groupsum(files,groupname,phasename,time):\n",
    "        grp_phs_files = []\n",
    "        for f in files:\n",
    "            if (groupname in f) & (phasename in f):\n",
    "                grp_phs_files.append(f)\n",
    "\n",
    "        pan = pd.DataFrame([])\n",
    "\n",
    "        for f in grp_phs_files:\n",
    "            df = pd.read_csv(f).set_index('DateTime')\n",
    "            pan = pd.concat([pan, df], axis=0)\n",
    "\n",
    "        path = '/Volumes/LaCie/5_4/reg_Panel/%s'%time\n",
    "        if not os.path.exists(path):\n",
    "            os.makedirs(path)\n",
    "        pan.to_csv('%s/%s_%s.csv'%(path, groupname, phasename))\n",
    "    \n",
    "    files = []\n",
    "    path = '/Volumes/LaCie/5_4/reg_Portfolio/%s'%time\n",
    "    for fpathe, dirs,fs in os.walk(path):\n",
    "        for f in fs: \n",
    "            if f[-9:] == 'folio.csv':\n",
    "                files.append(os.path.join(fpathe,f))\n",
    "\n",
    "    A1_pre1 = _groupsum(files,'A1','Pre_Phase_1',time)\n",
    "    A1_post1 = _groupsum(files,'A1','Post_Phase_1',time)\n",
    "    N1_pre1 = _groupsum(files,'N1','Pre_Phase_1',time)\n",
    "    N1_post1 = _groupsum(files,'N1','Post_Phase_1',time)\n",
    "\n",
    "    A2_pre2 = _groupsum(files,'A2','Pre_Phase_2',time)\n",
    "    A2_post2 = _groupsum(files,'A2','Post_Phase_2',time)\n",
    "    N2_pre2 = _groupsum(files,'N2','Pre_Phase_2',time)\n",
    "    N2_post2 = _groupsum(files,'N2','Post_Phase_2',time)\n",
    "    B12_pre2 = _groupsum(files,'B12','Pre_Phase_2',time)\n",
    "    B12_post2 = _groupsum(files,'B12','Post_Phase_2',time)\n",
    "    O2_pre2 = _groupsum(files,'O2','Pre_Phase_2',time)\n",
    "    O2_post2 = _groupsum(files,'O2','Post_Phase_2',time)"
   ]
  },
  {
   "cell_type": "code",
   "execution_count": 7,
   "metadata": {
    "ExecuteTime": {
     "end_time": "2020-05-04T07:49:20.011543Z",
     "start_time": "2020-05-04T07:46:47.702889Z"
    },
    "code_folding": []
   },
   "outputs": [
    {
     "data": {
      "application/javascript": [
       "$(document).ready(\n",
       "    function() {\n",
       "        function appendUniqueDiv(){\n",
       "            // append a div with our uuid so we can check that it's already\n",
       "            // been sent and avoid duplicates on page reload\n",
       "            var notifiedDiv = document.createElement(\"div\")\n",
       "            notifiedDiv.id = \"7a350efb-3d0f-45b6-841a-08fe52127b24\"\n",
       "            element.append(notifiedDiv)\n",
       "        }\n",
       "\n",
       "        // only send notifications if the pageload is complete; this will\n",
       "        // help stop extra notifications when a saved notebook is loaded,\n",
       "        // which during testing gives us state \"interactive\", not \"complete\"\n",
       "        if (document.readyState === 'complete') {\n",
       "            // check for the div that signifies that the notification\n",
       "            // was already sent\n",
       "            if (document.getElementById(\"7a350efb-3d0f-45b6-841a-08fe52127b24\") === null) {\n",
       "                var notificationPayload = {\"requireInteraction\": false, \"icon\": \"/static/base/images/favicon.ico\", \"body\": \"Cell execution has finished!\"};\n",
       "                if (Notification.permission !== 'denied') {\n",
       "                    if (Notification.permission !== 'granted') { \n",
       "                        Notification.requestPermission(function (permission) {\n",
       "                            if(!('permission' in Notification)) {\n",
       "                                Notification.permission = permission\n",
       "                            }\n",
       "                        })\n",
       "                    }\n",
       "                    if (Notification.permission === 'granted') {\n",
       "                    var notification = new Notification(\"Jupyter Notebook\", notificationPayload)\n",
       "                    appendUniqueDiv()\n",
       "                    notification.onclick = function () {\n",
       "                        window.focus();\n",
       "                        this.close();\n",
       "                        };\n",
       "                    } \n",
       "                }     \n",
       "            }\n",
       "        }\n",
       "    }\n",
       ")\n"
      ],
      "text/plain": [
       "<IPython.core.display.Javascript object>"
      ]
     },
     "metadata": {},
     "output_type": "display_data"
    }
   ],
   "source": [
    "%%notify\n",
    "for t in ['10','15','30','45','60']:\n",
    "    _wholeperiod(t)"
   ]
  },
  {
   "cell_type": "code",
   "execution_count": 5,
   "metadata": {
    "ExecuteTime": {
     "end_time": "2020-05-04T11:33:58.693638Z",
     "start_time": "2020-05-04T11:33:58.685492Z"
    },
    "code_folding": [
     0
    ]
   },
   "outputs": [],
   "source": [
    "def _tsplot(style,time,group,phase,groupname,phasename,ylim):\n",
    "    tmp_pre = pd.read_csv(\n",
    "        '/Volumes/LaCie/5_4/reg_Panel/%s/%s_Pre_%s.csv'%(time,group,phase)\n",
    "        )['Portfolio Illiquidity']\n",
    "    tmp_post = pd.read_csv(\n",
    "        '/Volumes/LaCie/5_4/reg_Panel/%s/%s_Post_%s.csv'%(time,group,phase)\n",
    "        )['Portfolio Illiquidity']\n",
    "    tmp_post_ = pd.concat([pd.DataFrame([np.nan]*len(tmp_pre)), tmp_post], \n",
    "                         axis = 0, ignore_index=True)\n",
    "    plt.style.use(style)\n",
    "    plt.figure(figsize=(20,9))\n",
    "    plt.title('%s - %s'%(groupname,phasename))\n",
    "    plt.ylim(0, ylim)\n",
    "    # plt.xticks(np.arange(len(price)), price['Date-Time'])\n",
    "    plt.plot(tmp_pre, alpha=0.5, linewidth=0.2)\n",
    "    plt.plot(tmp_post_,  alpha=0.5, linewidth=0.2)\n",
    "    plt.hlines(np.nanmean(tmp_pre), 0, len(tmp_pre),  linestyles='solid')\n",
    "    plt.hlines(np.nanmean(tmp_post_), len(tmp_pre), len(tmp_post_), linestyles='solid')\n",
    "    plt.savefig('/Volumes/LaCie/5_4/ts_plot_%s_%s.png'%(group,time), orientation='portrait')\n",
    "#     plt.show()"
   ]
  },
  {
   "cell_type": "code",
   "execution_count": 9,
   "metadata": {
    "ExecuteTime": {
     "end_time": "2020-05-04T07:49:20.031100Z",
     "start_time": "2020-05-04T07:49:20.027056Z"
    },
    "code_folding": [
     0
    ]
   },
   "outputs": [],
   "source": [
    "style_list = ['seaborn-dark', 'seaborn-darkgrid', 'seaborn-ticks', 'seaborn-whitegrid', \n",
    "              'seaborn-talk', 'seaborn-dark-palette', 'seaborn-bright', 'seaborn-pastel', \n",
    "              'seaborn-notebook', 'seaborn-white', 'seaborn-poster', 'seaborn-deep',\n",
    "              'seaborn-colorblind', 'seaborn-muted', 'seaborn-paper', 'seaborn',\n",
    "              'fivethirtyeight', 'classic', '_classic_test', 'fast','grayscale', 'ggplot', \n",
    "              'Solarize_Light2', 'bmh', 'tableau-colorblind10', \n",
    "              'dark_background']"
   ]
  },
  {
   "cell_type": "code",
   "execution_count": null,
   "metadata": {},
   "outputs": [],
   "source": [
    "%%notify\n",
    "pbar = tqdm(['05','10','15','30','45','60'])\n",
    "for t in pbar:\n",
    "# t = '15'\n",
    "    _tsplot('seaborn-deep',t,'A1','Phase_1','Group A','Phase 1 - %smin'%t,0.2)\n",
    "    _tsplot('seaborn-deep',t,'N1','Phase_1','Group B','Phase 1 - %smin'%t,0.8)\n",
    "    _tsplot('seaborn-deep',t,'A2','Phase_2','Group C','Phase 2 - %smin'%t,0.6)\n",
    "    _tsplot('seaborn-deep',t,'N2','Phase_2','Group D','Phase 2 - %smin'%t,0.1)\n",
    "    _tsplot('seaborn-deep',t,'O2','Phase_2','Group E','Phase 2 - %smin'%t,0.8)\n",
    "    _tsplot('seaborn-deep',t,'B12','Phase_2','Group F','Phase 2 - %smin'%t,0.08)"
   ]
  }
 ],
 "metadata": {
  "kernelspec": {
   "display_name": "Python 3",
   "language": "python",
   "name": "python3"
  },
  "language_info": {
   "codemirror_mode": {
    "name": "ipython",
    "version": 3
   },
   "file_extension": ".py",
   "mimetype": "text/x-python",
   "name": "python",
   "nbconvert_exporter": "python",
   "pygments_lexer": "ipython3",
   "version": "3.7.3"
  },
  "latex_envs": {
   "LaTeX_envs_menu_present": true,
   "autoclose": true,
   "autocomplete": true,
   "bibliofile": "biblio.bib",
   "cite_by": "apalike",
   "current_citInitial": 1,
   "eqLabelWithNumbers": true,
   "eqNumInitial": 1,
   "hotkeys": {
    "equation": "Ctrl-E",
    "itemize": "Ctrl-I"
   },
   "labels_anchors": false,
   "latex_user_defs": false,
   "report_style_numbering": false,
   "user_envs_cfg": false
  },
  "toc": {
   "base_numbering": 1,
   "nav_menu": {},
   "number_sections": true,
   "sideBar": false,
   "skip_h1_title": false,
   "title_cell": "Table of Contents",
   "title_sidebar": "Contents",
   "toc_cell": false,
   "toc_position": {},
   "toc_section_display": true,
   "toc_window_display": false
  }
 },
 "nbformat": 4,
 "nbformat_minor": 2
}
