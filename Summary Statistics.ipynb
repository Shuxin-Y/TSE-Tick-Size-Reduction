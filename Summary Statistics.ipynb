{
 "cells": [
  {
   "cell_type": "code",
   "execution_count": 1,
   "metadata": {
    "ExecuteTime": {
     "end_time": "2020-04-15T05:31:33.898364Z",
     "start_time": "2020-04-15T05:31:32.212075Z"
    },
    "code_folding": [
     0
    ]
   },
   "outputs": [
    {
     "data": {
      "application/javascript": [
       "if (!(\"Notification\" in window)) {\n",
       "    alert(\"This browser does not support desktop notifications, so the %%notify magic will not work.\");\n",
       "} else if (Notification.permission !== 'granted' && Notification.permission !== 'denied') {\n",
       "    Notification.requestPermission(function (permission) {\n",
       "        if(!('permission' in Notification)) {\n",
       "            Notification.permission = permission;\n",
       "        }\n",
       "    })\n",
       "}\n"
      ],
      "text/plain": [
       "<IPython.core.display.Javascript object>"
      ]
     },
     "metadata": {},
     "output_type": "display_data"
    }
   ],
   "source": [
    "# Import modules\n",
    "\n",
    "import pandas as pd\n",
    "import numpy as np\n",
    "import math\n",
    "import datetime\n",
    "import statistics\n",
    "\n",
    "import os\n",
    "from tqdm import tqdm\n",
    "from tqdm import trange\n",
    "\n",
    "import matplotlib.pyplot as plt\n",
    "%matplotlib inline\n",
    "%config InlineBackend.figure_format='retina'\n",
    "from jupyterthemes import jtplot\n",
    "jtplot.style()\n",
    "\n",
    "import warnings\n",
    "warnings.filterwarnings('ignore')\n",
    "\n",
    "import jupyternotify\n",
    "ip = get_ipython()\n",
    "ip.register_magics(jupyternotify.JupyterNotifyMagics(ip))"
   ]
  },
  {
   "cell_type": "code",
   "execution_count": 2,
   "metadata": {
    "ExecuteTime": {
     "end_time": "2020-04-14T03:59:11.106037Z",
     "start_time": "2020-04-14T03:59:10.771456Z"
    },
    "code_folding": [
     1
    ]
   },
   "outputs": [],
   "source": [
    "# Number of trading days \n",
    "basepaths = ['/Volumes/LaCie/Grouping_1/Pre_Phase_1/A_1',\n",
    "             '/Volumes/LaCie/Grouping_1/Pre_Phase_1/N_1',\n",
    "             '/Volumes/LaCie/Grouping_1/Post_Phase_1/A_1',\n",
    "             '/Volumes/LaCie/Grouping_1/Post_Phase_1/N_1',\n",
    "             '/Volumes/LaCie/Grouping_1/Pre_Phase_2/A_2',\n",
    "             '/Volumes/LaCie/Grouping_1/Pre_Phase_2/O_2',\n",
    "             '/Volumes/LaCie/Grouping_1/Pre_Phase_2/B_12',\n",
    "             '/Volumes/LaCie/Grouping_1/Pre_Phase_2/N_2',\n",
    "             '/Volumes/LaCie/Grouping_1/Post_Phase_2/A_2',\n",
    "             '/Volumes/LaCie/Grouping_1/Post_Phase_2/O_2',\n",
    "             '/Volumes/LaCie/Grouping_1/Post_Phase_2/B_12',\n",
    "             '/Volumes/LaCie/Grouping_1/Post_Phase_2/N_2']\n",
    "trdt_smry = pd.DataFrame({'Group':[],'Num':[]})\n",
    "group = []; num = []\n",
    "for i in basepaths:\n",
    "    dates = []\n",
    "    for date in os.listdir(i):\n",
    "        if os.path.isdir(os.path.join(i, date)):\n",
    "            dates.append(i +'/'+ date)\n",
    "    group.append(i[26:])\n",
    "    num.append(len(dates))\n",
    "trdt_smry['Group'] = group; trdt_smry['Num'] = num\n",
    "# trdt_smry"
   ]
  },
  {
   "cell_type": "code",
   "execution_count": 5,
   "metadata": {
    "ExecuteTime": {
     "end_time": "2020-04-14T06:28:16.967307Z",
     "start_time": "2020-04-14T06:28:16.947018Z"
    },
    "code_folding": [
     0
    ]
   },
   "outputs": [],
   "source": [
    "def _tradesize(files):\n",
    "    daily_trdsz = pd.DataFrame({'DateTime':[],'Code':[],\n",
    "                                'Volume':[],'Volume Yen':[],'Transactions':[],\n",
    "                                'Trade Size_Avg':[],'Trade Size_Med':[],\n",
    "                                'Yen Trade Size_Avg':[],'Yen Trade Size_Med':[]})\n",
    "    date = []; code = []\n",
    "    vol = []; vol_y = []; trans_num = []\n",
    "    trdsz_Avg = []; trdsz_Med = []; trdsz_Y_Avg = []; trdsz_Y_Med = []\n",
    "    \n",
    "    pbar = tqdm(files)\n",
    "    for f in pbar:\n",
    "        df = pd.read_csv(f)[['Issue code','Date','Time','Price','Trading volume']]\n",
    "        df = df.rename(columns={\"Issue code\":\"Code\", 'Trading volume':'Volume'})\n",
    "        \n",
    "        c = pd.Series(map(int.__add__, df.iloc[:,2], (df.iloc[:,1])*10**9))\n",
    "        col_1 = pd.to_datetime(c, format='%Y%m%d%H%M%S%f', errors='ignore')\n",
    "        df['DateTime'] = col_1\n",
    "        df['Volume Yen'] = df['Price']*df['Volume']\n",
    "        \n",
    "        date.append(df['DateTime'][0])\n",
    "        code.append(df['Code'][0])\n",
    "        \n",
    "        df_am = df[(df['DateTime']>=datetime.datetime(int(f[-20:-16]),int(f[-15:-13]),int(f[-12:-10]),9,0,0)) &\n",
    "                   (df['DateTime']<datetime.datetime(int(f[-20:-16]),int(f[-15:-13]),int(f[-12:-10]),11,30,0))]\n",
    "        df_am.reset_index(inplace = True, drop = True)\n",
    "        df_pm = df[(df['DateTime']>=datetime.datetime(int(f[-20:-16]),int(f[-15:-13]),int(f[-12:-10]),12,30,0)) & \n",
    "                   (df['DateTime']<datetime.datetime(int(f[-20:-16]),int(f[-15:-13]),int(f[-12:-10]),15,0,0))]\n",
    "        df_pm.reset_index(inplace = True, drop = True)\n",
    "        \n",
    "        df_am = df_am.drop([0])\n",
    "        df_pm = df_pm.drop([0])\n",
    "\n",
    "        df = pd.concat([df_am, df_pm], axis =0)\n",
    "        df.reset_index(inplace = True, drop = True)\n",
    "        df = df.drop(columns=['Date','Time'])\n",
    "        \n",
    "        vol.append(np.nansum(df['Volume']))\n",
    "        vol_y.append(np.nansum(df['Volume Yen']))\n",
    "        trans_num.append(len(df)-2)\n",
    "        trdsz_Avg.append(np.nanmean(df['Volume']))\n",
    "        trdsz_Med.append(np.nanmedian(df['Volume']))\n",
    "        trdsz_Y_Avg.append(np.nanmean(df['Volume Yen']))\n",
    "        trdsz_Y_Med.append(np.nanmean(df['Volume Yen']))\n",
    "        \n",
    "    daily_trdsz['DateTime'] = date\n",
    "    daily_trdsz['Code'] = code\n",
    "    daily_trdsz['Volume'] = vol\n",
    "    daily_trdsz['Volume Yen'] = vol_y\n",
    "    daily_trdsz['Transactions'] = trans_num\n",
    "    daily_trdsz['Trade Size_Avg'] = trdsz_Avg\n",
    "    daily_trdsz['Trade Size_Med'] = trdsz_Med\n",
    "    daily_trdsz['Yen Trade Size_Avg'] = trdsz_Y_Avg\n",
    "    daily_trdsz['Yen Trade Size_Med'] = trdsz_Y_Med\n",
    "\n",
    "    path = '/Volumes/LaCie/Sum_Stat/'\n",
    "    if not os.path.exists(path):\n",
    "        os.makedirs(path)\n",
    "    pd.DataFrame(daily_trdsz).to_csv('%s/Trade_Summary.csv'%(path), index=False)"
   ]
  },
  {
   "cell_type": "code",
   "execution_count": 3,
   "metadata": {
    "ExecuteTime": {
     "end_time": "2020-04-14T04:27:37.478230Z",
     "start_time": "2020-04-14T04:27:37.357619Z"
    },
    "code_folding": [
     2,
     7
    ]
   },
   "outputs": [],
   "source": [
    "files = []\n",
    "path_13 = '/Volumes/LaCie/Transactions_2013'\n",
    "for fpathe, dirs,fs in os.walk(path_13):\n",
    "    for f in fs:\n",
    "        if f[-5:]!= 'Store':\n",
    "            files.append(os.path.join(fpathe,f))\n",
    "path_14 = '/Volumes/LaCie/Transactions_2014'\n",
    "for fpathe, dirs,fs in os.walk(path_14):\n",
    "    for f in fs:\n",
    "        if f[-5:]!= 'Store':\n",
    "            files.append(os.path.join(fpathe,f))"
   ]
  },
  {
   "cell_type": "code",
   "execution_count": 6,
   "metadata": {
    "ExecuteTime": {
     "end_time": "2020-04-14T06:52:17.994570Z",
     "start_time": "2020-04-14T06:28:21.051578Z"
    }
   },
   "outputs": [
    {
     "name": "stderr",
     "output_type": "stream",
     "text": [
      "100%|██████████| 34307/34307 [23:56<00:00, 23.89it/s]\n"
     ]
    }
   ],
   "source": [
    "_tradesize(files)"
   ]
  },
  {
   "cell_type": "code",
   "execution_count": 2,
   "metadata": {
    "ExecuteTime": {
     "end_time": "2020-04-15T05:31:42.349401Z",
     "start_time": "2020-04-15T05:31:42.269332Z"
    }
   },
   "outputs": [],
   "source": [
    "trd_sum = pd.read_csv('/Volumes/LaCie/Sum_Stat/Trade_Summary.csv')"
   ]
  },
  {
   "cell_type": "code",
   "execution_count": 3,
   "metadata": {
    "ExecuteTime": {
     "end_time": "2020-04-15T06:01:55.960496Z",
     "start_time": "2020-04-15T05:31:51.804934Z"
    },
    "code_folding": [],
    "scrolled": true
   },
   "outputs": [
    {
     "name": "stderr",
     "output_type": "stream",
     "text": [
      "100%|██████████| 34307/34307 [30:04<00:00, 19.02it/s]\n"
     ]
    }
   ],
   "source": [
    "dt = []\n",
    "for i in trange(len(trd_sum)):\n",
    "    trd_sum['DateTime'][i] = trd_sum['DateTime'][i][:-4]\n",
    "    trd_sum['DateTime'][i] = datetime.datetime.strptime(trd_sum['DateTime'][i], \n",
    "                                                        '%Y-%m-%d %H:%M:%S')"
   ]
  },
  {
   "cell_type": "code",
   "execution_count": 16,
   "metadata": {
    "ExecuteTime": {
     "end_time": "2020-04-15T06:26:08.673447Z",
     "start_time": "2020-04-15T06:26:08.656251Z"
    }
   },
   "outputs": [],
   "source": [
    "pre_1 = trd_sum[trd_sum['DateTime'] <= datetime.datetime(2014,1,14,8,0,0)]\n",
    "post_1 = trd_sum[(trd_sum['DateTime'] > datetime.datetime(2014,1,14,8,0,0)) & \n",
    "                 (trd_sum['DateTime'] <= datetime.datetime(2014,7,22,8,0,0))] \n",
    "post_2 = trd_sum[trd_sum['DateTime'] > datetime.datetime(2014,7,22,8,0,0)] "
   ]
  },
  {
   "cell_type": "code",
   "execution_count": 31,
   "metadata": {
    "ExecuteTime": {
     "end_time": "2020-04-15T07:17:01.411655Z",
     "start_time": "2020-04-15T07:17:01.384752Z"
    },
    "code_folding": [
     1,
     13,
     25,
     37,
     49
    ]
   },
   "outputs": [],
   "source": [
    "trd_sum_stat = pd.DataFrame({'Info':[],'Pre_1':[],'Post_1':[],'Post_2':[],'Overall':[]})\n",
    "info = ['Daily Volume Avg',\n",
    "        'Daily Volume Med',\n",
    "        'Daily Yen Avg',\n",
    "        'Daily Yen Med',\n",
    "        'Transactions Avg',\n",
    "        'Transactions Med',\n",
    "        'Trade Size Avg',\n",
    "        'Trade Size Med',\n",
    "        'Yen TrdSz Avg',\n",
    "        'Yen TrdSz Med'\n",
    "        ]\n",
    "\n",
    "pre_1_stat = [\n",
    "    np.nanmean(pre_1['Volume']),\n",
    "    np.nanmedian(pre_1['Volume']),\n",
    "    np.nanmean(pre_1['Volume Yen']),\n",
    "    np.nanmedian(pre_1['Volume Yen']),\n",
    "    np.nanmean(pre_1['Transactions']),\n",
    "    np.nanmedian(pre_1['Transactions']),\n",
    "    np.nanmean(pre_1['Trade Size_Avg']),\n",
    "    np.nanmedian(pre_1['Trade Size_Med']),\n",
    "    np.nanmean(pre_1['Yen Trade Size_Avg']),\n",
    "    np.nanmedian(pre_1['Yen Trade Size_Med'])]\n",
    "\n",
    "post_1_stat = [\n",
    "    np.nanmean(post_1['Volume']),\n",
    "    np.nanmedian(post_1['Volume']),\n",
    "    np.nanmean(post_1['Volume Yen']),\n",
    "    np.nanmedian(post_1['Volume Yen']),\n",
    "    np.nanmean(post_1['Transactions']),\n",
    "    np.nanmedian(post_1['Transactions']),\n",
    "    np.nanmean(post_1['Trade Size_Avg']),\n",
    "    np.nanmedian(post_1['Trade Size_Med']),\n",
    "    np.nanmean(post_1['Yen Trade Size_Avg']),\n",
    "    np.nanmedian(post_1['Yen Trade Size_Med'])]\n",
    "\n",
    "post_2_stat = [\n",
    "    np.nanmean(post_2['Volume']),\n",
    "    np.nanmedian(post_2['Volume']),\n",
    "    np.nanmean(post_2['Volume Yen']),\n",
    "    np.nanmedian(post_2['Volume Yen']),\n",
    "    np.nanmean(post_2['Transactions']),\n",
    "    np.nanmedian(post_2['Transactions']),\n",
    "    np.nanmean(post_2['Trade Size_Avg']),\n",
    "    np.nanmedian(post_2['Trade Size_Med']),\n",
    "    np.nanmean(post_2['Yen Trade Size_Avg']),\n",
    "    np.nanmedian(post_2['Yen Trade Size_Med'])]\n",
    "\n",
    "overall_stat = [\n",
    "    np.nanmean(trd_sum['Volume']),\n",
    "    np.nanmedian(trd_sum['Volume']),\n",
    "    np.nanmean(trd_sum['Volume Yen']),\n",
    "    np.nanmedian(trd_sum['Volume Yen']),\n",
    "    np.nanmean(trd_sum['Transactions']),\n",
    "    np.nanmedian(trd_sum['Transactions']),\n",
    "    np.nanmean(trd_sum['Trade Size_Avg']),\n",
    "    np.nanmedian(trd_sum['Trade Size_Med']),\n",
    "    np.nanmean(trd_sum['Yen Trade Size_Avg']),\n",
    "    np.nanmedian(trd_sum['Yen Trade Size_Med'])]\n",
    "\n",
    "trd_sum_stat['Info'] = info\n",
    "trd_sum_stat['Pre_1'] = pre_1_stat\n",
    "trd_sum_stat['Post_1'] = post_1_stat\n",
    "trd_sum_stat['Post_2'] = post_2_stat\n",
    "trd_sum_stat['Overall'] = overall_stat"
   ]
  },
  {
   "cell_type": "code",
   "execution_count": 33,
   "metadata": {
    "ExecuteTime": {
     "end_time": "2020-04-15T11:18:47.655407Z",
     "start_time": "2020-04-15T11:18:47.645328Z"
    }
   },
   "outputs": [
    {
     "data": {
      "text/html": [
       "<div>\n",
       "<style scoped>\n",
       "    .dataframe tbody tr th:only-of-type {\n",
       "        vertical-align: middle;\n",
       "    }\n",
       "\n",
       "    .dataframe tbody tr th {\n",
       "        vertical-align: top;\n",
       "    }\n",
       "\n",
       "    .dataframe thead th {\n",
       "        text-align: right;\n",
       "    }\n",
       "</style>\n",
       "<table border=\"1\" class=\"dataframe\">\n",
       "  <thead>\n",
       "    <tr style=\"text-align: right;\">\n",
       "      <th></th>\n",
       "      <th>Info</th>\n",
       "      <th>Pre_1</th>\n",
       "      <th>Post_1</th>\n",
       "      <th>Post_2</th>\n",
       "      <th>Overall</th>\n",
       "    </tr>\n",
       "  </thead>\n",
       "  <tbody>\n",
       "    <tr>\n",
       "      <th>0</th>\n",
       "      <td>Daily Volume Avg</td>\n",
       "      <td>7.518100e+06</td>\n",
       "      <td>7.265775e+06</td>\n",
       "      <td>6.440036e+06</td>\n",
       "      <td>7.108395e+06</td>\n",
       "    </tr>\n",
       "    <tr>\n",
       "      <th>1</th>\n",
       "      <td>Daily Volume Med</td>\n",
       "      <td>2.880950e+06</td>\n",
       "      <td>2.923000e+06</td>\n",
       "      <td>2.876500e+06</td>\n",
       "      <td>2.897500e+06</td>\n",
       "    </tr>\n",
       "    <tr>\n",
       "      <th>2</th>\n",
       "      <td>Daily Yen Avg</td>\n",
       "      <td>9.375267e+09</td>\n",
       "      <td>9.348114e+09</td>\n",
       "      <td>9.449539e+09</td>\n",
       "      <td>9.387919e+09</td>\n",
       "    </tr>\n",
       "    <tr>\n",
       "      <th>3</th>\n",
       "      <td>Daily Yen Med</td>\n",
       "      <td>5.599021e+09</td>\n",
       "      <td>5.841764e+09</td>\n",
       "      <td>6.250745e+09</td>\n",
       "      <td>5.891709e+09</td>\n",
       "    </tr>\n",
       "    <tr>\n",
       "      <th>4</th>\n",
       "      <td>Transactions Avg</td>\n",
       "      <td>2.678668e+03</td>\n",
       "      <td>3.530458e+03</td>\n",
       "      <td>5.121138e+03</td>\n",
       "      <td>3.704855e+03</td>\n",
       "    </tr>\n",
       "    <tr>\n",
       "      <th>5</th>\n",
       "      <td>Transactions Med</td>\n",
       "      <td>2.135500e+03</td>\n",
       "      <td>2.692000e+03</td>\n",
       "      <td>3.959500e+03</td>\n",
       "      <td>2.755000e+03</td>\n",
       "    </tr>\n",
       "    <tr>\n",
       "      <th>6</th>\n",
       "      <td>Trade Size Avg</td>\n",
       "      <td>2.659698e+03</td>\n",
       "      <td>2.625746e+03</td>\n",
       "      <td>1.203291e+03</td>\n",
       "      <td>2.213539e+03</td>\n",
       "    </tr>\n",
       "    <tr>\n",
       "      <th>7</th>\n",
       "      <td>Trade Size Med</td>\n",
       "      <td>3.000000e+02</td>\n",
       "      <td>3.000000e+02</td>\n",
       "      <td>2.000000e+02</td>\n",
       "      <td>3.000000e+02</td>\n",
       "    </tr>\n",
       "    <tr>\n",
       "      <th>8</th>\n",
       "      <td>Yen TrdSz Avg</td>\n",
       "      <td>3.414352e+06</td>\n",
       "      <td>2.732188e+06</td>\n",
       "      <td>1.973166e+06</td>\n",
       "      <td>2.746055e+06</td>\n",
       "    </tr>\n",
       "    <tr>\n",
       "      <th>9</th>\n",
       "      <td>Yen TrdSz Med</td>\n",
       "      <td>3.026956e+06</td>\n",
       "      <td>2.250843e+06</td>\n",
       "      <td>1.599912e+06</td>\n",
       "      <td>2.205444e+06</td>\n",
       "    </tr>\n",
       "  </tbody>\n",
       "</table>\n",
       "</div>"
      ],
      "text/plain": [
       "               Info         Pre_1        Post_1        Post_2       Overall\n",
       "0  Daily Volume Avg  7.518100e+06  7.265775e+06  6.440036e+06  7.108395e+06\n",
       "1  Daily Volume Med  2.880950e+06  2.923000e+06  2.876500e+06  2.897500e+06\n",
       "2     Daily Yen Avg  9.375267e+09  9.348114e+09  9.449539e+09  9.387919e+09\n",
       "3     Daily Yen Med  5.599021e+09  5.841764e+09  6.250745e+09  5.891709e+09\n",
       "4  Transactions Avg  2.678668e+03  3.530458e+03  5.121138e+03  3.704855e+03\n",
       "5  Transactions Med  2.135500e+03  2.692000e+03  3.959500e+03  2.755000e+03\n",
       "6    Trade Size Avg  2.659698e+03  2.625746e+03  1.203291e+03  2.213539e+03\n",
       "7    Trade Size Med  3.000000e+02  3.000000e+02  2.000000e+02  3.000000e+02\n",
       "8     Yen TrdSz Avg  3.414352e+06  2.732188e+06  1.973166e+06  2.746055e+06\n",
       "9     Yen TrdSz Med  3.026956e+06  2.250843e+06  1.599912e+06  2.205444e+06"
      ]
     },
     "execution_count": 33,
     "metadata": {},
     "output_type": "execute_result"
    }
   ],
   "source": [
    "trd_sum_stat"
   ]
  }
 ],
 "metadata": {
  "kernelspec": {
   "display_name": "Python 3",
   "language": "python",
   "name": "python3"
  },
  "language_info": {
   "codemirror_mode": {
    "name": "ipython",
    "version": 3
   },
   "file_extension": ".py",
   "mimetype": "text/x-python",
   "name": "python",
   "nbconvert_exporter": "python",
   "pygments_lexer": "ipython3",
   "version": "3.7.3"
  },
  "latex_envs": {
   "LaTeX_envs_menu_present": true,
   "autoclose": true,
   "autocomplete": true,
   "bibliofile": "biblio.bib",
   "cite_by": "apalike",
   "current_citInitial": 1,
   "eqLabelWithNumbers": true,
   "eqNumInitial": 1,
   "hotkeys": {
    "equation": "Ctrl-E",
    "itemize": "Ctrl-I"
   },
   "labels_anchors": false,
   "latex_user_defs": false,
   "report_style_numbering": false,
   "user_envs_cfg": false
  },
  "toc": {
   "base_numbering": 1,
   "nav_menu": {},
   "number_sections": true,
   "sideBar": false,
   "skip_h1_title": false,
   "title_cell": "Table of Contents",
   "title_sidebar": "Contents",
   "toc_cell": false,
   "toc_position": {},
   "toc_section_display": true,
   "toc_window_display": false
  }
 },
 "nbformat": 4,
 "nbformat_minor": 2
}
