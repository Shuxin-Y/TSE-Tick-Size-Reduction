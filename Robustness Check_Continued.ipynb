{
 "cells": [
  {
   "cell_type": "code",
   "execution_count": 1,
   "metadata": {
    "ExecuteTime": {
     "end_time": "2020-07-07T00:50:56.109518Z",
     "start_time": "2020-07-07T00:50:54.240116Z"
    },
    "code_folding": [
     0
    ]
   },
   "outputs": [
    {
     "data": {
      "application/javascript": [
       "if (!(\"Notification\" in window)) {\n",
       "    alert(\"This browser does not support desktop notifications, so the %%notify magic will not work.\");\n",
       "} else if (Notification.permission !== 'granted' && Notification.permission !== 'denied') {\n",
       "    Notification.requestPermission(function (permission) {\n",
       "        if(!('permission' in Notification)) {\n",
       "            Notification.permission = permission;\n",
       "        }\n",
       "    })\n",
       "}\n"
      ],
      "text/plain": [
       "<IPython.core.display.Javascript object>"
      ]
     },
     "metadata": {},
     "output_type": "display_data"
    }
   ],
   "source": [
    "# Import Modules \n",
    "import pandas as pd\n",
    "import numpy as np\n",
    "import math\n",
    "import datetime\n",
    "import statistics\n",
    "\n",
    "import os\n",
    "from tqdm import tqdm\n",
    "from tqdm import trange\n",
    "\n",
    "from linearmodels.panel import PanelOLS\n",
    "from linearmodels.panel import RandomEffects\n",
    "from linearmodels.panel import FamaMacBeth\n",
    "from linearmodels.panel import PooledOLS\n",
    "import statsmodels.api as sm  # Adding constant\n",
    "import statsmodels.formula.api as smf\n",
    "\n",
    "import matplotlib.pyplot as plt\n",
    "%matplotlib inline\n",
    "%config InlineBackend.figure_format='retina'\n",
    "# from jupyterthemes import jtplot\n",
    "# jtplot.style()\n",
    "\n",
    "import warnings\n",
    "warnings.filterwarnings('ignore')\n",
    "\n",
    "import jupyternotify\n",
    "ip = get_ipython()\n",
    "ip.register_magics(jupyternotify.JupyterNotifyMagics(ip))\n",
    "\n",
    "# from notify_run import Notify\n",
    "# notify = Notify()\n",
    "# notify.register()"
   ]
  },
  {
   "cell_type": "markdown",
   "metadata": {
    "heading_collapsed": true
   },
   "source": [
    "## Define Function for Collecting Panel Analysis Results"
   ]
  },
  {
   "cell_type": "code",
   "execution_count": 2,
   "metadata": {
    "ExecuteTime": {
     "end_time": "2020-07-07T00:51:40.501806Z",
     "start_time": "2020-07-07T00:51:40.496458Z"
    },
    "code_folding": [
     0
    ],
    "hidden": true
   },
   "outputs": [],
   "source": [
    "# import modules\n",
    "from statsmodels.compat.python import (lrange, iterkeys, iteritems, lzip,\n",
    "                                       reduce, itervalues, zip, string_types,\n",
    "                                       range)\n",
    "from collections import OrderedDict\n",
    "import statsmodels\n",
    "\n",
    "import datetime\n",
    "import textwrap\n",
    "from statsmodels.iolib.table import SimpleTable\n",
    "from statsmodels.iolib.tableformatting import fmt_latex, fmt_txt"
   ]
  },
  {
   "cell_type": "code",
   "execution_count": 3,
   "metadata": {
    "ExecuteTime": {
     "end_time": "2020-07-07T00:51:42.140130Z",
     "start_time": "2020-07-07T00:51:42.105419Z"
    },
    "code_folding": [
     0
    ],
    "hidden": true
   },
   "outputs": [],
   "source": [
    "class Summary_panel(object):\n",
    "    def __init__(self):\n",
    "        self.tables = []\n",
    "        self.settings = []\n",
    "        self.extra_txt = []\n",
    "        self.title = None\n",
    "\n",
    "    def __str__(self):\n",
    "        return self.as_text()\n",
    "\n",
    "    def __repr__(self):\n",
    "        return str(type(self)) + '\\n\"\"\"\\n' + self.__str__() + '\\n\"\"\"'\n",
    "\n",
    "    def _repr_html_(self):\n",
    "        '''Display as HTML in IPython notebook.'''\n",
    "        return self.as_html()\n",
    "    \n",
    "    def as_text(self):\n",
    "        '''Generate ASCII Summary Table\n",
    "        '''\n",
    "\n",
    "        tables = self.tables\n",
    "        settings = self.settings\n",
    "        title = self.title\n",
    "        extra_txt = self.extra_txt\n",
    "\n",
    "        pad_col, pad_index, widest = _measure_tables(tables, settings)\n",
    "\n",
    "        rule_equal = widest * '='\n",
    "        #TODO: this isn't used anywhere?\n",
    "        rule_dash = widest * '-'\n",
    "\n",
    "        simple_tables = _simple_tables(tables, settings, pad_col, pad_index)\n",
    "        tab = [x.as_text() for x in simple_tables]\n",
    "\n",
    "        tab = '\\n'.join(tab)\n",
    "        tab = tab.split('\\n')\n",
    "        tab[0] = rule_equal\n",
    "        tab.append(rule_equal)\n",
    "        tab = '\\n'.join(tab)\n",
    "\n",
    "        if title is not None:\n",
    "            title = title\n",
    "            if len(title) < widest:\n",
    "                title = ' ' * int(widest/2 - len(title)/2) + title\n",
    "        else:\n",
    "            title = ''\n",
    "\n",
    "        txt = [textwrap.wrap(x, widest) for x in extra_txt]\n",
    "        txt = ['\\n'.join(x) for x in txt]\n",
    "        txt = '\\n'.join(txt)\n",
    "\n",
    "        out = '\\n'.join([title, tab, txt])\n",
    "\n",
    "        return out\n",
    "\n",
    "    def as_html(self):\n",
    "        '''Generate HTML Summary Table\n",
    "        '''\n",
    "\n",
    "        tables = self.tables\n",
    "        settings = self.settings\n",
    "        #TODO: this isn't used anywhere\n",
    "        title = self.title\n",
    "\n",
    "        simple_tables = _simple_tables(tables, settings)\n",
    "        tab = [x.as_html() for x in simple_tables]\n",
    "        tab = '\\n'.join(tab)\n",
    "\n",
    "        return tab\n",
    "\n",
    "    def as_latex(self):\n",
    "        '''Generate LaTeX Summary Table\n",
    "        '''\n",
    "        tables = self.tables\n",
    "        settings = self.settings\n",
    "        title = self.title\n",
    "        if title is not None:\n",
    "            title = '\\\\caption{' + title + '} \\\\\\\\'\n",
    "        else:\n",
    "            title = '\\\\caption{}'\n",
    "\n",
    "        simple_tables = _simple_tables(tables, settings)\n",
    "        tab = [x.as_latex_tabular() for x in simple_tables]\n",
    "        tab = '\\n\\\\hline\\n'.join(tab)\n",
    "\n",
    "        out = '\\\\begin{table}', title, tab, '\\\\end{table}'\n",
    "        out = '\\n'.join(out)\n",
    "        return out\n",
    "    \n",
    "    def add_base(self, results, yname, xname, \n",
    "                 alpha=0.05, float_format=\"%.4f\", title=None):\n",
    "        '''Try to construct a basic summary instance.\n",
    "\n",
    "        Parameters\n",
    "        ----------\n",
    "        results : Model results instance\n",
    "        alpha : float\n",
    "            significance level for the confidence intervals (optional)\n",
    "        float_formatting: string\n",
    "            Float formatting for summary of parameters (optional)\n",
    "        title : string\n",
    "            Title of the summary table (optional)\n",
    "        xname : List of strings of length equal to the number of parameters\n",
    "            Names of the independent variables (optional)\n",
    "        yname : string\n",
    "            Name of the dependent variable (optional)\n",
    "        '''\n",
    "\n",
    "        param = summary_params(results, alpha=alpha, use_t=True)\n",
    "        info = summary_model(results)\n",
    "        if xname is not None:\n",
    "            param.index = xname\n",
    "        if yname is not None:\n",
    "            info['Dependent Variable:'] = yname\n",
    "        self.add_dict(info, align='l')\n",
    "        self.add_df(param, float_format=float_format)\n",
    "        self.add_title(title=title, results=results)\n",
    "\n",
    "    def add_df(self, df, index=True, header=True, float_format='%.4f',\n",
    "               align='r'):\n",
    "        '''Add the contents of a DataFrame to summary table\n",
    "\n",
    "        Parameters\n",
    "        ----------\n",
    "        df : DataFrame\n",
    "        header: bool\n",
    "            Reproduce the DataFrame column labels in summary table\n",
    "        index: bool\n",
    "            Reproduce the DataFrame row labels in summary table\n",
    "        float_format: string\n",
    "            Formatting to float data columns\n",
    "        align : string\n",
    "            Data alignment (l/c/r)\n",
    "        '''\n",
    "\n",
    "        settings = {'index': index, 'header': header,\n",
    "                    'float_format': float_format, 'align': align}\n",
    "        self.tables.append(df)\n",
    "        self.settings.append(settings)\n",
    "\n",
    "    def add_array(self, array, align='r', float_format=\"%.4f\"):\n",
    "        '''Add the contents of a Numpy array to summary table\n",
    "\n",
    "        Parameters\n",
    "        ----------\n",
    "        array : numpy array (2D)\n",
    "        float_format: string\n",
    "            Formatting to array if type is float\n",
    "        align : string\n",
    "            Data alignment (l/c/r)\n",
    "        '''\n",
    "\n",
    "        table = pd.DataFrame(array)\n",
    "        self.add_df(table, index=False, header=False,\n",
    "                    float_format=float_format, align=align)\n",
    "\n",
    "    def add_dict(self, d, ncols=2, align='l', float_format=\"%.4f\"):\n",
    "        '''Add the contents of a Dict to summary table\n",
    "\n",
    "        Parameters\n",
    "        ----------\n",
    "        d : dict\n",
    "            Keys and values are automatically coerced to strings with str().\n",
    "            Users are encouraged to format them before using add_dict.\n",
    "        ncols: int\n",
    "            Number of columns of the output table\n",
    "        align : string\n",
    "            Data alignment (l/c/r)\n",
    "        '''\n",
    "\n",
    "        keys = [_formatter(x, float_format) for x in iterkeys(d)]\n",
    "        vals = [_formatter(x, float_format) for x in itervalues(d)]\n",
    "        data = np.array(lzip(keys, vals))\n",
    "\n",
    "        if data.shape[0] % ncols != 0:\n",
    "            pad = ncols - (data.shape[0] % ncols)\n",
    "            data = np.vstack([data, np.array(pad * [['', '']])])\n",
    "\n",
    "        data = np.split(data, ncols)\n",
    "        data = reduce(lambda x, y: np.hstack([x, y]), data)\n",
    "        self.add_array(data, align=align)\n",
    "\n",
    "    def add_text(self, string):\n",
    "        '''Append a note to the bottom of the summary table. In ASCII tables,\n",
    "        the note will be wrapped to table width. Notes are not indendented.\n",
    "        '''\n",
    "        self.extra_txt.append(string)\n",
    "\n",
    "    def add_title(self, title=None, results=None):\n",
    "        '''Insert a title on top of the summary table. If a string is provided\n",
    "        in the title argument, that string is printed. If no title string is\n",
    "        provided but a results instance is provided, statsmodels attempts\n",
    "        to construct a useful title automatically.\n",
    "        '''\n",
    "        if isinstance(title, string_types):\n",
    "            self.title = title\n",
    "        else:\n",
    "            try:\n",
    "                model = results.model.__class__.__name__\n",
    "#                 if model in _model_types:\n",
    "#                     model = _model_types[model]\n",
    "                self.title = 'Results: ' + model\n",
    "            except:\n",
    "                self.title = ''"
   ]
  },
  {
   "cell_type": "code",
   "execution_count": 4,
   "metadata": {
    "ExecuteTime": {
     "end_time": "2020-07-07T00:51:53.923511Z",
     "start_time": "2020-07-07T00:51:53.909624Z"
    },
    "code_folding": [
     0
    ],
    "hidden": true
   },
   "outputs": [],
   "source": [
    "def summary_model_panel(results):\n",
    "    '''Create a dict with information about the model'''\n",
    "    \n",
    "    def time_now(*args, **kwds):\n",
    "        now = datetime.datetime.now()\n",
    "        return now.strftime('%Y-%m-%d %H:%M')\n",
    "    info = OrderedDict()\n",
    "    info['Model:'] = lambda x: x.model.__class__.__name__\n",
    "#     info['Model Family:'] = lambda x: x.family.__class.__name__\n",
    "#     info['Link Function:'] = lambda x: x.family.link.__class__.__name__\n",
    "    info['Dependent Variable:'] = lambda x: ' '.join(map(str, results.model.dependent.vars))\n",
    "    info['Date:'] = time_now\n",
    "    info['No. Observations:'] = lambda x: \"%#6d\" % x.nobs\n",
    "    info['Df Model:'] = lambda x: \"%#6d\" % x.df_model\n",
    "    info['Df Residuals:'] = lambda x: \"%#6d\" % x.df_resid\n",
    "#     info['Converged:'] = lambda x: x.mle_retvals['converged']\n",
    "#     info['No. Iterations:'] = lambda x: x.mle_retvals['iterations']\n",
    "    info['Method:'] = lambda x: x.method\n",
    "#     info['Norm:'] = lambda x: x.fit_options['norm']\n",
    "#     info['Scale Est.:'] = lambda x: x.fit_options['scale_est']\n",
    "#     info['Cov. Type:'] = lambda x: x.fit_options['cov']\n",
    "    info['R-squared:'] = lambda x: \"%#8.3f\" % x.rsquared\n",
    "#     info['Adj. R-squared:'] = lambda x: \"%#8.3f\" % x.rsquared_adj\n",
    "#     info['Pseudo R-squared:'] = lambda x: \"%#8.3f\" % x.prsquared\n",
    "#     info['AIC:'] = lambda x: \"%8.4f\" % x.aic\n",
    "#     info['BIC:'] = lambda x: \"%8.4f\" % x.bic\n",
    "    info['Log-Likelihood:'] = lambda x: \"%#8.5g\" % x.loglik\n",
    "#     info['LL-Null:'] = lambda x: \"%#8.5g\" % x.llnull\n",
    "#     info['LLR p-value:'] = lambda x: \"%#8.5g\" % x.llr_pvalue\n",
    "#     info['Deviance:'] = lambda x: \"%#8.5g\" % x.deviance\n",
    "#     info['Pearson chi2:'] = lambda x: \"%#6.3g\" % x.pearson_chi2\n",
    "    info['F-statistic:'] = lambda x: \"%#8.4g\" % x.f_statistic\n",
    "#     info['Prob (F-statistic):'] = lambda x: \"%#6.3g\" % x.f_pvalue\n",
    "#     info['Scale:'] = lambda x: \"%#8.5g\" % x.scale\n",
    "    out = OrderedDict()\n",
    "    for key, func in iteritems(info):\n",
    "        try:\n",
    "            out[key] = func(results)\n",
    "        # NOTE: some models don't have loglike defined (RLM), so that's NIE\n",
    "        except (AttributeError, KeyError, NotImplementedError):\n",
    "            pass\n",
    "    return out"
   ]
  },
  {
   "cell_type": "code",
   "execution_count": 5,
   "metadata": {
    "ExecuteTime": {
     "end_time": "2020-07-07T00:52:04.451771Z",
     "start_time": "2020-07-07T00:52:04.438338Z"
    },
    "code_folding": [
     0
    ],
    "hidden": true
   },
   "outputs": [],
   "source": [
    "def summary_params_panel(results, yname=None, xname=None, alpha=.05, use_t=True,\n",
    "                   skip_header=False, float_format=\"%.4f\"):\n",
    "    '''create a summary table of parameters from results instance\n",
    "\n",
    "    Parameters\n",
    "    ----------\n",
    "    res : results instance\n",
    "        some required information is directly taken from the result\n",
    "        instance\n",
    "    yname : string or None\n",
    "        optional name for the endogenous variable, default is \"y\"\n",
    "    xname : list of strings or None\n",
    "        optional names for the exogenous variables, default is \"var_xx\"\n",
    "    alpha : float\n",
    "        significance level for the confidence intervals\n",
    "    use_t : bool\n",
    "        indicator whether the p-values are based on the Student-t\n",
    "        distribution (if True) or on the normal distribution (if False)\n",
    "    skip_headers : bool\n",
    "        If false (default), then the header row is added. If true, then no\n",
    "        header row is added.\n",
    "    float_format : string\n",
    "        float formatting options (e.g. \".3g\")\n",
    "\n",
    "    Returns\n",
    "    -------\n",
    "    params_table : SimpleTable instance\n",
    "    '''\n",
    "\n",
    "    if isinstance(results, tuple):\n",
    "        results, params, std_errors, tstats, pvalues, conf_int = results\n",
    "    else:\n",
    "        params = results.params\n",
    "        std_errors = results.std_errors\n",
    "        tstats = results.tstats\n",
    "        pvalues = results.pvalues\n",
    "        conf_int = results.conf_int(alpha)\n",
    "\n",
    "    data = np.array([params, std_errors, tstats, pvalues]).T\n",
    "    data = np.hstack([data, conf_int])\n",
    "    data = pd.DataFrame(data)\n",
    "\n",
    "    if use_t:\n",
    "        data.columns = ['Coef.', 'Std.Err.', 't', 'P>|t|',\n",
    "                        '[' + str(alpha/2), str(1-alpha/2) + ']']\n",
    "    else:\n",
    "        data.columns = ['Coef.', 'Std.Err.', 'z', 'P>|z|',\n",
    "                        '[' + str(alpha/2), str(1-alpha/2) + ']']\n",
    "\n",
    "    if not xname:\n",
    "        data.index = results.model.exog_names\n",
    "    else:\n",
    "        data.index = xname\n",
    "\n",
    "    return data"
   ]
  },
  {
   "cell_type": "code",
   "execution_count": 6,
   "metadata": {
    "ExecuteTime": {
     "end_time": "2020-07-07T00:52:14.763283Z",
     "start_time": "2020-07-07T00:52:14.749941Z"
    },
    "code_folding": [
     0
    ],
    "hidden": true
   },
   "outputs": [],
   "source": [
    "def _col_params_panel(result, yname=None, xname=None, float_format='%.4f', stars=True):\n",
    "    '''Stack coefficients and standard errors in single column\n",
    "    '''\n",
    "    # Extract parameters\n",
    "    res = summary_params_panel(result, yname=yname, xname=xname)\n",
    "    # Format float\n",
    "    for col in res.columns[:2]:\n",
    "        res[col] = res[col].apply(lambda x: float_format % x)\n",
    "    # Std.Errors in parentheses\n",
    "    res.ix[:, 1] = '(' + res.ix[:, 1] + ')'\n",
    "    # Significance stars\n",
    "    if stars:\n",
    "        idx = res.ix[:, 3] < .1\n",
    "        res.ix[:, 0][idx] = res.ix[:, 0][idx] + '*'\n",
    "        idx = res.ix[:, 3] < .05\n",
    "        res.ix[:, 0][idx] = res.ix[:, 0][idx] + '*'\n",
    "        idx = res.ix[:, 3] < .01\n",
    "        res.ix[:, 0][idx] = res.ix[:, 0][idx] + '*'\n",
    "    # Stack Coefs and Std.Errors\n",
    "    res = res.ix[:, :2]\n",
    "    res = res.stack()\n",
    "    res = pd.DataFrame(res)\n",
    "    res.columns = result.model.dependent.vars\n",
    "    return res"
   ]
  },
  {
   "cell_type": "code",
   "execution_count": 7,
   "metadata": {
    "ExecuteTime": {
     "end_time": "2020-07-07T00:52:47.197836Z",
     "start_time": "2020-07-07T00:52:47.188648Z"
    },
    "code_folding": [
     0
    ],
    "hidden": true
   },
   "outputs": [],
   "source": [
    "def _col_info_panel(result, info_dict=None):\n",
    "    '''Stack model info in a column\n",
    "    '''\n",
    "\n",
    "    if info_dict is None:\n",
    "        info_dict = {}\n",
    "    out = []\n",
    "    index = []\n",
    "    for i in info_dict:\n",
    "        if isinstance(info_dict[i], dict):\n",
    "            # this is a specific model info_dict, but not for this result...\n",
    "            continue\n",
    "        try:\n",
    "            out.append(info_dict[i](result))\n",
    "        except:\n",
    "            out.append('')\n",
    "        index.append(i)\n",
    "    out = pd.DataFrame({' '.join(map(str, result.model.dependent.vars)): out}, index=index)\n",
    "    return out"
   ]
  },
  {
   "cell_type": "code",
   "execution_count": 8,
   "metadata": {
    "ExecuteTime": {
     "end_time": "2020-07-07T00:52:55.492678Z",
     "start_time": "2020-07-07T00:52:55.486825Z"
    },
    "code_folding": [
     0
    ],
    "hidden": true
   },
   "outputs": [],
   "source": [
    "def _make_unique(list_of_names):\n",
    "    if len(set(list_of_names)) == len(list_of_names):\n",
    "        return list_of_names\n",
    "    # pandas does not like it if multiple columns have the same names\n",
    "    from collections import defaultdict\n",
    "    name_counter = defaultdict(str)\n",
    "    header = []\n",
    "    for _name in list_of_names:\n",
    "        name_counter[_name] += \"I\"\n",
    "        header.append(_name+\" \" + name_counter[_name])\n",
    "    return header"
   ]
  },
  {
   "cell_type": "code",
   "execution_count": 9,
   "metadata": {
    "ExecuteTime": {
     "end_time": "2020-07-07T00:53:07.162031Z",
     "start_time": "2020-07-07T00:53:07.135946Z"
    },
    "code_folding": [
     0
    ],
    "hidden": true
   },
   "outputs": [],
   "source": [
    "def summary_col_panel(results, yname=None, xname=None, float_format='%.4f', \n",
    "                model_names=[], stars=False, info_dict=None, regressor_order=[]):\n",
    "    \"\"\"\n",
    "    Summarize multiple results instances side-by-side (coefs and SEs)\n",
    "\n",
    "    Parameters\n",
    "    ----------\n",
    "    results : statsmodels results instance or list of result instances\n",
    "    float_format : string\n",
    "        float format for coefficients and standard errors\n",
    "        Default : '%.4f'\n",
    "    model_names : list of strings of length len(results) if the names are not\n",
    "        unique, a roman number will be appended to all model names\n",
    "    stars : bool\n",
    "        print significance stars\n",
    "    info_dict : dict\n",
    "        dict of lambda functions to be applied to results instances to retrieve\n",
    "        model info. To use specific information for different models, add a\n",
    "        (nested) info_dict with model name as the key.\n",
    "        Example: `info_dict = {\"N\":..., \"R2\": ..., \"OLS\":{\"R2\":...}}` would\n",
    "        only show `R2` for OLS regression models, but additionally `N` for\n",
    "        all other results.\n",
    "        Default : None (use the info_dict specified in\n",
    "        result.default_model_infos, if this property exists)\n",
    "    regressor_order : list of strings\n",
    "        list of names of the regressors in the desired order. All regressors\n",
    "        not specified will be appended to the end of the list.\n",
    "    \"\"\"\n",
    "\n",
    "    if not isinstance(results, list):\n",
    "        results = [results]\n",
    "\n",
    "    cols = [_col_params_panel(x, yname=yname, xname=xname, \n",
    "                              float_format=float_format,  stars=stars) for x in\n",
    "            results]\n",
    "\n",
    "    # Unique column names (pandas has problems merging otherwise)\n",
    "    if model_names:\n",
    "        colnames = _make_unique(model_names)\n",
    "    else:\n",
    "        colnames = _make_unique([x.columns[0] for x in cols])\n",
    "    for i in range(len(cols)):\n",
    "        cols[i].columns = [colnames[i]]\n",
    "\n",
    "    merg = lambda x, y: x.merge(y, how='outer', right_index=True,\n",
    "                                left_index=True)\n",
    "    summ = reduce(merg, cols)\n",
    "\n",
    "    if regressor_order:\n",
    "        varnames = summ.index.get_level_values(0).tolist()\n",
    "        ordered = [x for x in regressor_order if x in varnames]\n",
    "        unordered = [x for x in varnames if x not in regressor_order + ['']]\n",
    "        order = ordered + list(np.unique(unordered))\n",
    "\n",
    "        f = lambda idx: sum([[x + 'coef', x + 'stde'] for x in idx], [])\n",
    "        summ.index = f(np.unique(varnames))\n",
    "        summ = summ.reindex(f(order))\n",
    "        summ.index = [x[:-4] for x in summ.index]\n",
    "\n",
    "    idx = pd.Series(lrange(summ.shape[0])) % 2 == 1\n",
    "    summ.index = np.where(idx, '', summ.index.get_level_values(0))\n",
    "\n",
    "    # add infos about the models.\n",
    "    if info_dict:\n",
    "        cols = [_col_info_panel(x, info_dict.get(x.model.__class__.__name__,\n",
    "                                           info_dict)) for x in results]\n",
    "    else:\n",
    "        cols = [_col_info_panel(x, getattr(x, \"default_model_infos\", None)) for x in\n",
    "                results]\n",
    "    # use unique column names, otherwise the merge will not succeed\n",
    "    for df , name in zip(cols, _make_unique([df.columns[0] for df in cols])):\n",
    "        df.columns = [name]\n",
    "    merg = lambda x, y: x.merge(y, how='outer', right_index=True,\n",
    "                                left_index=True)\n",
    "    info = reduce(merg, cols)\n",
    "    dat = pd.DataFrame(np.vstack([summ, info]))  # pd.concat better, but error\n",
    "    dat.columns = summ.columns\n",
    "    dat.index = pd.Index(summ.index.tolist() + info.index.tolist())\n",
    "    summ = dat\n",
    "\n",
    "    summ = summ.fillna('')\n",
    "\n",
    "    smry = Summary_panel()\n",
    "    smry.add_df(summ, header=True, align='l')\n",
    "    smry.add_text('Standard errors in parentheses.')\n",
    "    if stars:\n",
    "        smry.add_text('* p<.1, ** p<.05, ***p<.01')\n",
    "\n",
    "    return smry"
   ]
  },
  {
   "cell_type": "code",
   "execution_count": 10,
   "metadata": {
    "ExecuteTime": {
     "end_time": "2020-07-07T00:53:26.853861Z",
     "start_time": "2020-07-07T00:53:26.834716Z"
    },
    "code_folding": [
     0,
     24,
     31,
     55
    ],
    "hidden": true
   },
   "outputs": [],
   "source": [
    "def _measure_tables(tables, settings):\n",
    "    '''Compare width of ascii tables in a list and calculate padding values.\n",
    "    We add space to each col_sep to get us as close as possible to the\n",
    "    width of the largest table. Then, we add a few spaces to the first\n",
    "    column to pad the rest.\n",
    "    '''\n",
    "\n",
    "    simple_tables = _simple_tables(tables, settings)\n",
    "    tab = [x.as_text() for x in simple_tables]\n",
    "\n",
    "    length = [len(x.splitlines()[0]) for x in tab]\n",
    "    len_max = max(length)\n",
    "    pad_sep = []\n",
    "    pad_index = []\n",
    "\n",
    "    for i in range(len(tab)):\n",
    "        nsep = tables[i].shape[1] - 1\n",
    "        pad = int((len_max - length[i]) / nsep)\n",
    "        pad_sep.append(pad)\n",
    "        len_new = length[i] + nsep * pad\n",
    "        pad_index.append(len_max - len_new)\n",
    "\n",
    "    return pad_sep, pad_index, max(length)\n",
    "\n",
    "def _formatter(element, float_format='%.4f'):\n",
    "    try:\n",
    "        out = float_format % element\n",
    "    except:\n",
    "        out = str(element)\n",
    "    return out.strip()\n",
    "\n",
    "def _df_to_simpletable(df, align='r', float_format=\"%.4f\", header=True,\n",
    "                       index=True, table_dec_above='-', table_dec_below=None,\n",
    "                       header_dec_below='-', pad_col=0, pad_index=0):\n",
    "    dat = df.copy()\n",
    "    dat = dat.applymap(lambda x: _formatter(x, float_format))\n",
    "    if header:\n",
    "        headers = [str(x) for x in dat.columns.tolist()]\n",
    "    else:\n",
    "        headers = None\n",
    "    if index:\n",
    "        stubs = [str(x) + int(pad_index) * ' ' for x in dat.index.tolist()]\n",
    "    else:\n",
    "        dat.ix[:, 0] = [str(x) + int(pad_index) * ' ' for x in dat.ix[:, 0]]\n",
    "        stubs = None\n",
    "    st = SimpleTable(np.array(dat), headers=headers, stubs=stubs,\n",
    "                     ltx_fmt=fmt_latex, txt_fmt=fmt_txt)\n",
    "    st.output_formats['latex']['data_aligns'] = align\n",
    "    st.output_formats['txt']['data_aligns'] = align\n",
    "    st.output_formats['txt']['table_dec_above'] = table_dec_above\n",
    "    st.output_formats['txt']['table_dec_below'] = table_dec_below\n",
    "    st.output_formats['txt']['header_dec_below'] = header_dec_below\n",
    "    st.output_formats['txt']['colsep'] = ' ' * int(pad_col + 1)\n",
    "    return st\n",
    "\n",
    "def _simple_tables(tables, settings, pad_col=None, pad_index=None):\n",
    "    simple_tables = []\n",
    "    float_format = '%.4f'\n",
    "    if pad_col is None:\n",
    "        pad_col = [0] * len(tables)\n",
    "    if pad_index is None:\n",
    "        pad_index = [0] * len(tables)\n",
    "    for i, v in enumerate(tables):\n",
    "        index = settings[i]['index']\n",
    "        header = settings[i]['header']\n",
    "        align = settings[i]['align']\n",
    "        simple_tables.append(_df_to_simpletable(v, align=align,\n",
    "                                                float_format=float_format,\n",
    "                                                header=header, index=index,\n",
    "                                                pad_col=pad_col[i],\n",
    "                                                pad_index=pad_index[i]))\n",
    "    return simple_tables"
   ]
  },
  {
   "cell_type": "markdown",
   "metadata": {},
   "source": [
    "## Collecting Panel Analysis Results for All Intervals"
   ]
  },
  {
   "cell_type": "code",
   "execution_count": 36,
   "metadata": {
    "ExecuteTime": {
     "end_time": "2020-07-07T07:44:58.532934Z",
     "start_time": "2020-07-07T07:44:58.525065Z"
    }
   },
   "outputs": [],
   "source": [
    "interval = '10'"
   ]
  },
  {
   "cell_type": "code",
   "execution_count": 41,
   "metadata": {
    "ExecuteTime": {
     "end_time": "2020-07-07T08:01:38.202149Z",
     "start_time": "2020-07-07T08:01:18.084716Z"
    }
   },
   "outputs": [],
   "source": [
    "phase_1 = pd.read_csv('/Volumes/LaCie/2020July/panel_analysis/%s/Phase_1.csv'%interval)\n",
    "phase_1.iloc[:,0] = pd.to_datetime(pd.Series(phase_1.iloc[:,0]))\n",
    "mi_p1 = phase_1.set_index(['Code','DateTime'])\n",
    "mi_p1['Post1*G1'] = mi_p1['Post 1']*mi_p1['G1']\n",
    "mi_p1['Post1*G2'] = mi_p1['Post 1']*mi_p1['G2']\n",
    "mi_p1['Post1*G3'] = mi_p1['Post 1']*mi_p1['G3']\n",
    "mi_p1['Post1*G4'] = mi_p1['Post 1']*mi_p1['G4']\n",
    "mi_p1['Post1*G5'] = mi_p1['Post 1']*mi_p1['G5']\n",
    "mi_p1['Post1*G6'] = mi_p1['Post 1']*mi_p1['G6']"
   ]
  },
  {
   "cell_type": "code",
   "execution_count": 52,
   "metadata": {
    "ExecuteTime": {
     "end_time": "2020-07-07T09:20:01.121437Z",
     "start_time": "2020-07-07T09:19:58.933619Z"
    }
   },
   "outputs": [],
   "source": [
    "exog_var_1 = ['Post1*G1', 'Post1*G2', 'Post1*G3', \n",
    "              'Post1*G4', 'Post1*G5', \n",
    "              'Lag Return-%s'%interval]#, 'Post1*G6','Volume Yen-%s'%interval]\n",
    "ind_var=sm.add_constant(mi_p1[exog_var_1])\n",
    "# ind_var = mi_p1[exog_var_1]"
   ]
  },
  {
   "cell_type": "code",
   "execution_count": 53,
   "metadata": {
    "ExecuteTime": {
     "end_time": "2020-07-07T09:20:34.553960Z",
     "start_time": "2020-07-07T09:20:02.431250Z"
    },
    "collapsed": true
   },
   "outputs": [
    {
     "name": "stdout",
     "output_type": "stream",
     "text": [
      "                        RandomEffects Estimation Summary                        \n",
      "================================================================================\n",
      "Dep. Variable:         Illiquidity-10   R-squared:                        0.0006\n",
      "Estimator:              RandomEffects   R-squared (Between):              0.0527\n",
      "No. Observations:             6304360   R-squared (Within):               0.0006\n",
      "Date:                Tue, Jul 07 2020   R-squared (Overall):              0.0040\n",
      "Time:                        18:20:33   Log-likelihood                  7.82e+06\n",
      "Cov. Estimator:            Unadjusted                                           \n",
      "                                        F-statistic:                      670.84\n",
      "Entities:                          87   P-value                           0.0000\n",
      "Avg Obs:                    7.246e+04   Distribution:               F(6,6304353)\n",
      "Min Obs:                     6.97e+04                                           \n",
      "Max Obs:                    7.252e+04   F-statistic (robust):             670.84\n",
      "                                        P-value                           0.0000\n",
      "Time periods:                   72520   Distribution:               F(6,6304353)\n",
      "Avg Obs:                       86.933                                           \n",
      "Min Obs:                       84.000                                           \n",
      "Max Obs:                       87.000                                           \n",
      "                                                                                \n",
      "                               Parameter Estimates                               \n",
      "=================================================================================\n",
      "               Parameter  Std. Err.     T-stat    P-value    Lower CI    Upper CI\n",
      "---------------------------------------------------------------------------------\n",
      "const             0.0169     0.0018     9.5491     0.0000      0.0135      0.0204\n",
      "Post1*G1          0.0050     0.0001     46.166     0.0000      0.0048      0.0052\n",
      "Post1*G2         -0.0020  8.792e-05    -22.246     0.0000     -0.0021     -0.0018\n",
      "Post1*G3         -0.0028     0.0001    -19.276     0.0000     -0.0031     -0.0025\n",
      "Post1*G4         -0.0040     0.0002    -24.293     0.0000     -0.0043     -0.0037\n",
      "Post1*G5         -0.0045     0.0002    -19.429     0.0000     -0.0050     -0.0041\n",
      "Lag Return-10    -0.0890     0.0116    -7.6912     0.0000     -0.1117     -0.0664\n",
      "=================================================================================\n"
     ]
    }
   ],
   "source": [
    "RE_mod_1 = RandomEffects(mi_p1['Illiquidity-%s'%interval], ind_var)\n",
    "print(RE_mod_1.fit())"
   ]
  },
  {
   "cell_type": "code",
   "execution_count": 47,
   "metadata": {
    "ExecuteTime": {
     "end_time": "2020-07-07T08:09:32.738013Z",
     "start_time": "2020-07-07T08:09:30.317889Z"
    }
   },
   "outputs": [],
   "source": [
    "a = ind_var.dropna()"
   ]
  },
  {
   "cell_type": "code",
   "execution_count": 48,
   "metadata": {
    "ExecuteTime": {
     "end_time": "2020-07-07T08:10:20.035647Z",
     "start_time": "2020-07-07T08:09:37.960027Z"
    }
   },
   "outputs": [],
   "source": [
    "from statsmodels.stats.outliers_influence import variance_inflation_factor\n",
    "vif = pd.DataFrame()\n",
    "vif[\"VIF Factor\"] = [variance_inflation_factor(a.values, i)\\\n",
    "                     for i in range(a.shape[1])]\n",
    "vif[\"features\"] = a.columns"
   ]
  },
  {
   "cell_type": "code",
   "execution_count": 49,
   "metadata": {
    "ExecuteTime": {
     "end_time": "2020-07-07T08:10:43.283480Z",
     "start_time": "2020-07-07T08:10:43.257152Z"
    }
   },
   "outputs": [
    {
     "data": {
      "text/html": [
       "<div>\n",
       "<style scoped>\n",
       "    .dataframe tbody tr th:only-of-type {\n",
       "        vertical-align: middle;\n",
       "    }\n",
       "\n",
       "    .dataframe tbody tr th {\n",
       "        vertical-align: top;\n",
       "    }\n",
       "\n",
       "    .dataframe thead th {\n",
       "        text-align: right;\n",
       "    }\n",
       "</style>\n",
       "<table border=\"1\" class=\"dataframe\">\n",
       "  <thead>\n",
       "    <tr style=\"text-align: right;\">\n",
       "      <th></th>\n",
       "      <th>VIF Factor</th>\n",
       "      <th>features</th>\n",
       "    </tr>\n",
       "  </thead>\n",
       "  <tbody>\n",
       "    <tr>\n",
       "      <th>0</th>\n",
       "      <td>2.3</td>\n",
       "      <td>const</td>\n",
       "    </tr>\n",
       "    <tr>\n",
       "      <th>1</th>\n",
       "      <td>1.1</td>\n",
       "      <td>Post1*G1</td>\n",
       "    </tr>\n",
       "    <tr>\n",
       "      <th>2</th>\n",
       "      <td>1.1</td>\n",
       "      <td>Post1*G2</td>\n",
       "    </tr>\n",
       "    <tr>\n",
       "      <th>3</th>\n",
       "      <td>1.1</td>\n",
       "      <td>Post1*G3</td>\n",
       "    </tr>\n",
       "    <tr>\n",
       "      <th>4</th>\n",
       "      <td>1.1</td>\n",
       "      <td>Post1*G4</td>\n",
       "    </tr>\n",
       "    <tr>\n",
       "      <th>5</th>\n",
       "      <td>1.0</td>\n",
       "      <td>Post1*G5</td>\n",
       "    </tr>\n",
       "    <tr>\n",
       "      <th>6</th>\n",
       "      <td>1.0</td>\n",
       "      <td>Post1*G6</td>\n",
       "    </tr>\n",
       "    <tr>\n",
       "      <th>7</th>\n",
       "      <td>1.0</td>\n",
       "      <td>Lag Return-10</td>\n",
       "    </tr>\n",
       "    <tr>\n",
       "      <th>8</th>\n",
       "      <td>1.0</td>\n",
       "      <td>Volume Yen-10</td>\n",
       "    </tr>\n",
       "  </tbody>\n",
       "</table>\n",
       "</div>"
      ],
      "text/plain": [
       "   VIF Factor       features\n",
       "0         2.3          const\n",
       "1         1.1       Post1*G1\n",
       "2         1.1       Post1*G2\n",
       "3         1.1       Post1*G3\n",
       "4         1.1       Post1*G4\n",
       "5         1.0       Post1*G5\n",
       "6         1.0       Post1*G6\n",
       "7         1.0  Lag Return-10\n",
       "8         1.0  Volume Yen-10"
      ]
     },
     "execution_count": 49,
     "metadata": {},
     "output_type": "execute_result"
    }
   ],
   "source": [
    "vif.round(1)"
   ]
  },
  {
   "cell_type": "code",
   "execution_count": 54,
   "metadata": {
    "ExecuteTime": {
     "end_time": "2020-07-09T02:40:52.803531Z",
     "start_time": "2020-07-09T02:40:28.137136Z"
    }
   },
   "outputs": [
    {
     "data": {
      "text/html": [
       "<div>\n",
       "<style scoped>\n",
       "    .dataframe tbody tr th:only-of-type {\n",
       "        vertical-align: middle;\n",
       "    }\n",
       "\n",
       "    .dataframe tbody tr th {\n",
       "        vertical-align: top;\n",
       "    }\n",
       "\n",
       "    .dataframe thead th {\n",
       "        text-align: right;\n",
       "    }\n",
       "</style>\n",
       "<table border=\"1\" class=\"dataframe\">\n",
       "  <thead>\n",
       "    <tr style=\"text-align: right;\">\n",
       "      <th></th>\n",
       "      <th>VIF Factor</th>\n",
       "      <th>features</th>\n",
       "    </tr>\n",
       "  </thead>\n",
       "  <tbody>\n",
       "    <tr>\n",
       "      <th>0</th>\n",
       "      <td>0.0</td>\n",
       "      <td>const</td>\n",
       "    </tr>\n",
       "    <tr>\n",
       "      <th>1</th>\n",
       "      <td>inf</td>\n",
       "      <td>G1</td>\n",
       "    </tr>\n",
       "    <tr>\n",
       "      <th>2</th>\n",
       "      <td>inf</td>\n",
       "      <td>G2</td>\n",
       "    </tr>\n",
       "    <tr>\n",
       "      <th>3</th>\n",
       "      <td>inf</td>\n",
       "      <td>G3</td>\n",
       "    </tr>\n",
       "    <tr>\n",
       "      <th>4</th>\n",
       "      <td>inf</td>\n",
       "      <td>G4</td>\n",
       "    </tr>\n",
       "    <tr>\n",
       "      <th>5</th>\n",
       "      <td>inf</td>\n",
       "      <td>G5</td>\n",
       "    </tr>\n",
       "    <tr>\n",
       "      <th>6</th>\n",
       "      <td>inf</td>\n",
       "      <td>G6</td>\n",
       "    </tr>\n",
       "    <tr>\n",
       "      <th>7</th>\n",
       "      <td>1.0</td>\n",
       "      <td>Lag Return-10</td>\n",
       "    </tr>\n",
       "  </tbody>\n",
       "</table>\n",
       "</div>"
      ],
      "text/plain": [
       "   VIF Factor       features\n",
       "0         0.0          const\n",
       "1         inf             G1\n",
       "2         inf             G2\n",
       "3         inf             G3\n",
       "4         inf             G4\n",
       "5         inf             G5\n",
       "6         inf             G6\n",
       "7         1.0  Lag Return-10"
      ]
     },
     "execution_count": 54,
     "metadata": {},
     "output_type": "execute_result"
    }
   ],
   "source": [
    "exog_var_2 = ['G1', 'G2', 'G3', 'G4', 'G5', 'G6', 'Lag Return-%s'%interval]\n",
    "ind_var_2 = sm.add_constant(mi_p1[exog_var_2])\n",
    "b = ind_var_2.dropna()\n",
    "vif = pd.DataFrame()\n",
    "vif[\"VIF Factor\"] = [variance_inflation_factor(b.values, i)\\\n",
    "                     for i in range(b.shape[1])]\n",
    "vif[\"features\"] = b.columns\n",
    "vif.round(1)"
   ]
  },
  {
   "cell_type": "code",
   "execution_count": 56,
   "metadata": {
    "ExecuteTime": {
     "end_time": "2020-07-09T02:44:20.296555Z",
     "start_time": "2020-07-09T02:44:02.796276Z"
    }
   },
   "outputs": [
    {
     "data": {
      "text/html": [
       "<div>\n",
       "<style scoped>\n",
       "    .dataframe tbody tr th:only-of-type {\n",
       "        vertical-align: middle;\n",
       "    }\n",
       "\n",
       "    .dataframe tbody tr th {\n",
       "        vertical-align: top;\n",
       "    }\n",
       "\n",
       "    .dataframe thead th {\n",
       "        text-align: right;\n",
       "    }\n",
       "</style>\n",
       "<table border=\"1\" class=\"dataframe\">\n",
       "  <thead>\n",
       "    <tr style=\"text-align: right;\">\n",
       "      <th></th>\n",
       "      <th>VIF Factor</th>\n",
       "      <th>features</th>\n",
       "    </tr>\n",
       "  </thead>\n",
       "  <tbody>\n",
       "    <tr>\n",
       "      <th>0</th>\n",
       "      <td>87.0</td>\n",
       "      <td>const</td>\n",
       "    </tr>\n",
       "    <tr>\n",
       "      <th>1</th>\n",
       "      <td>17.7</td>\n",
       "      <td>G1</td>\n",
       "    </tr>\n",
       "    <tr>\n",
       "      <th>2</th>\n",
       "      <td>21.5</td>\n",
       "      <td>G2</td>\n",
       "    </tr>\n",
       "    <tr>\n",
       "      <th>3</th>\n",
       "      <td>11.9</td>\n",
       "      <td>G3</td>\n",
       "    </tr>\n",
       "    <tr>\n",
       "      <th>4</th>\n",
       "      <td>9.7</td>\n",
       "      <td>G4</td>\n",
       "    </tr>\n",
       "    <tr>\n",
       "      <th>5</th>\n",
       "      <td>5.7</td>\n",
       "      <td>G5</td>\n",
       "    </tr>\n",
       "    <tr>\n",
       "      <th>6</th>\n",
       "      <td>1.0</td>\n",
       "      <td>Lag Return-10</td>\n",
       "    </tr>\n",
       "  </tbody>\n",
       "</table>\n",
       "</div>"
      ],
      "text/plain": [
       "   VIF Factor       features\n",
       "0        87.0          const\n",
       "1        17.7             G1\n",
       "2        21.5             G2\n",
       "3        11.9             G3\n",
       "4         9.7             G4\n",
       "5         5.7             G5\n",
       "6         1.0  Lag Return-10"
      ]
     },
     "execution_count": 56,
     "metadata": {},
     "output_type": "execute_result"
    }
   ],
   "source": [
    "exog_var_3 = ['G1', 'G2', 'G3', 'G4', 'G5', 'Lag Return-%s'%interval]\n",
    "ind_var_3 = sm.add_constant(mi_p1[exog_var_3])\n",
    "c = ind_var_3.dropna()\n",
    "vif = pd.DataFrame()\n",
    "vif[\"VIF Factor\"] = [variance_inflation_factor(c.values, i)\\\n",
    "                     for i in range(c.shape[1])]\n",
    "vif[\"features\"] = c.columns\n",
    "vif.round(1)"
   ]
  },
  {
   "cell_type": "code",
   "execution_count": 13,
   "metadata": {
    "ExecuteTime": {
     "end_time": "2020-07-07T00:57:57.089699Z",
     "start_time": "2020-07-07T00:57:27.925277Z"
    },
    "code_folding": [],
    "collapsed": true
   },
   "outputs": [
    {
     "name": "stderr",
     "output_type": "stream",
     "text": [
      "100%|██████████| 1/1 [00:28<00:00, 28.73s/it]\n"
     ]
    },
    {
     "ename": "ZeroDivisionError",
     "evalue": "division by zero",
     "output_type": "error",
     "traceback": [
      "\u001b[0;31m---------------------------------------------------------------------------\u001b[0m",
      "\u001b[0;31mZeroDivisionError\u001b[0m                         Traceback (most recent call last)",
      "\u001b[0;32m//anaconda3/lib/python3.7/site-packages/IPython/core/formatters.py\u001b[0m in \u001b[0;36m__call__\u001b[0;34m(self, obj)\u001b[0m\n\u001b[1;32m    700\u001b[0m                 \u001b[0mtype_pprinters\u001b[0m\u001b[0;34m=\u001b[0m\u001b[0mself\u001b[0m\u001b[0;34m.\u001b[0m\u001b[0mtype_printers\u001b[0m\u001b[0;34m,\u001b[0m\u001b[0;34m\u001b[0m\u001b[0;34m\u001b[0m\u001b[0m\n\u001b[1;32m    701\u001b[0m                 deferred_pprinters=self.deferred_printers)\n\u001b[0;32m--> 702\u001b[0;31m             \u001b[0mprinter\u001b[0m\u001b[0;34m.\u001b[0m\u001b[0mpretty\u001b[0m\u001b[0;34m(\u001b[0m\u001b[0mobj\u001b[0m\u001b[0;34m)\u001b[0m\u001b[0;34m\u001b[0m\u001b[0;34m\u001b[0m\u001b[0m\n\u001b[0m\u001b[1;32m    703\u001b[0m             \u001b[0mprinter\u001b[0m\u001b[0;34m.\u001b[0m\u001b[0mflush\u001b[0m\u001b[0;34m(\u001b[0m\u001b[0;34m)\u001b[0m\u001b[0;34m\u001b[0m\u001b[0;34m\u001b[0m\u001b[0m\n\u001b[1;32m    704\u001b[0m             \u001b[0;32mreturn\u001b[0m \u001b[0mstream\u001b[0m\u001b[0;34m.\u001b[0m\u001b[0mgetvalue\u001b[0m\u001b[0;34m(\u001b[0m\u001b[0;34m)\u001b[0m\u001b[0;34m\u001b[0m\u001b[0;34m\u001b[0m\u001b[0m\n",
      "\u001b[0;32m//anaconda3/lib/python3.7/site-packages/IPython/lib/pretty.py\u001b[0m in \u001b[0;36mpretty\u001b[0;34m(self, obj)\u001b[0m\n\u001b[1;32m    400\u001b[0m                         \u001b[0;32mif\u001b[0m \u001b[0mcls\u001b[0m \u001b[0;32mis\u001b[0m \u001b[0;32mnot\u001b[0m \u001b[0mobject\u001b[0m\u001b[0;31m \u001b[0m\u001b[0;31m\\\u001b[0m\u001b[0;34m\u001b[0m\u001b[0;34m\u001b[0m\u001b[0m\n\u001b[1;32m    401\u001b[0m                                 \u001b[0;32mand\u001b[0m \u001b[0mcallable\u001b[0m\u001b[0;34m(\u001b[0m\u001b[0mcls\u001b[0m\u001b[0;34m.\u001b[0m\u001b[0m__dict__\u001b[0m\u001b[0;34m.\u001b[0m\u001b[0mget\u001b[0m\u001b[0;34m(\u001b[0m\u001b[0;34m'__repr__'\u001b[0m\u001b[0;34m)\u001b[0m\u001b[0;34m)\u001b[0m\u001b[0;34m:\u001b[0m\u001b[0;34m\u001b[0m\u001b[0;34m\u001b[0m\u001b[0m\n\u001b[0;32m--> 402\u001b[0;31m                             \u001b[0;32mreturn\u001b[0m \u001b[0m_repr_pprint\u001b[0m\u001b[0;34m(\u001b[0m\u001b[0mobj\u001b[0m\u001b[0;34m,\u001b[0m \u001b[0mself\u001b[0m\u001b[0;34m,\u001b[0m \u001b[0mcycle\u001b[0m\u001b[0;34m)\u001b[0m\u001b[0;34m\u001b[0m\u001b[0;34m\u001b[0m\u001b[0m\n\u001b[0m\u001b[1;32m    403\u001b[0m \u001b[0;34m\u001b[0m\u001b[0m\n\u001b[1;32m    404\u001b[0m             \u001b[0;32mreturn\u001b[0m \u001b[0m_default_pprint\u001b[0m\u001b[0;34m(\u001b[0m\u001b[0mobj\u001b[0m\u001b[0;34m,\u001b[0m \u001b[0mself\u001b[0m\u001b[0;34m,\u001b[0m \u001b[0mcycle\u001b[0m\u001b[0;34m)\u001b[0m\u001b[0;34m\u001b[0m\u001b[0;34m\u001b[0m\u001b[0m\n",
      "\u001b[0;32m//anaconda3/lib/python3.7/site-packages/IPython/lib/pretty.py\u001b[0m in \u001b[0;36m_repr_pprint\u001b[0;34m(obj, p, cycle)\u001b[0m\n\u001b[1;32m    695\u001b[0m     \u001b[0;34m\"\"\"A pprint that just redirects to the normal repr function.\"\"\"\u001b[0m\u001b[0;34m\u001b[0m\u001b[0;34m\u001b[0m\u001b[0m\n\u001b[1;32m    696\u001b[0m     \u001b[0;31m# Find newlines and replace them with p.break_()\u001b[0m\u001b[0;34m\u001b[0m\u001b[0;34m\u001b[0m\u001b[0;34m\u001b[0m\u001b[0m\n\u001b[0;32m--> 697\u001b[0;31m     \u001b[0moutput\u001b[0m \u001b[0;34m=\u001b[0m \u001b[0mrepr\u001b[0m\u001b[0;34m(\u001b[0m\u001b[0mobj\u001b[0m\u001b[0;34m)\u001b[0m\u001b[0;34m\u001b[0m\u001b[0;34m\u001b[0m\u001b[0m\n\u001b[0m\u001b[1;32m    698\u001b[0m     \u001b[0;32mfor\u001b[0m \u001b[0midx\u001b[0m\u001b[0;34m,\u001b[0m\u001b[0moutput_line\u001b[0m \u001b[0;32min\u001b[0m \u001b[0menumerate\u001b[0m\u001b[0;34m(\u001b[0m\u001b[0moutput\u001b[0m\u001b[0;34m.\u001b[0m\u001b[0msplitlines\u001b[0m\u001b[0;34m(\u001b[0m\u001b[0;34m)\u001b[0m\u001b[0;34m)\u001b[0m\u001b[0;34m:\u001b[0m\u001b[0;34m\u001b[0m\u001b[0;34m\u001b[0m\u001b[0m\n\u001b[1;32m    699\u001b[0m         \u001b[0;32mif\u001b[0m \u001b[0midx\u001b[0m\u001b[0;34m:\u001b[0m\u001b[0;34m\u001b[0m\u001b[0;34m\u001b[0m\u001b[0m\n",
      "\u001b[0;32m<ipython-input-3-3b0b54cf7ef0>\u001b[0m in \u001b[0;36m__repr__\u001b[0;34m(self)\u001b[0m\n\u001b[1;32m     10\u001b[0m \u001b[0;34m\u001b[0m\u001b[0m\n\u001b[1;32m     11\u001b[0m     \u001b[0;32mdef\u001b[0m \u001b[0m__repr__\u001b[0m\u001b[0;34m(\u001b[0m\u001b[0mself\u001b[0m\u001b[0;34m)\u001b[0m\u001b[0;34m:\u001b[0m\u001b[0;34m\u001b[0m\u001b[0;34m\u001b[0m\u001b[0m\n\u001b[0;32m---> 12\u001b[0;31m         \u001b[0;32mreturn\u001b[0m \u001b[0mstr\u001b[0m\u001b[0;34m(\u001b[0m\u001b[0mtype\u001b[0m\u001b[0;34m(\u001b[0m\u001b[0mself\u001b[0m\u001b[0;34m)\u001b[0m\u001b[0;34m)\u001b[0m \u001b[0;34m+\u001b[0m \u001b[0;34m'\\n\"\"\"\\n'\u001b[0m \u001b[0;34m+\u001b[0m \u001b[0mself\u001b[0m\u001b[0;34m.\u001b[0m\u001b[0m__str__\u001b[0m\u001b[0;34m(\u001b[0m\u001b[0;34m)\u001b[0m \u001b[0;34m+\u001b[0m \u001b[0;34m'\\n\"\"\"'\u001b[0m\u001b[0;34m\u001b[0m\u001b[0;34m\u001b[0m\u001b[0m\n\u001b[0m\u001b[1;32m     13\u001b[0m \u001b[0;34m\u001b[0m\u001b[0m\n\u001b[1;32m     14\u001b[0m     \u001b[0;32mdef\u001b[0m \u001b[0m_repr_html_\u001b[0m\u001b[0;34m(\u001b[0m\u001b[0mself\u001b[0m\u001b[0;34m)\u001b[0m\u001b[0;34m:\u001b[0m\u001b[0;34m\u001b[0m\u001b[0;34m\u001b[0m\u001b[0m\n",
      "\u001b[0;32m<ipython-input-3-3b0b54cf7ef0>\u001b[0m in \u001b[0;36m__str__\u001b[0;34m(self)\u001b[0m\n\u001b[1;32m      7\u001b[0m \u001b[0;34m\u001b[0m\u001b[0m\n\u001b[1;32m      8\u001b[0m     \u001b[0;32mdef\u001b[0m \u001b[0m__str__\u001b[0m\u001b[0;34m(\u001b[0m\u001b[0mself\u001b[0m\u001b[0;34m)\u001b[0m\u001b[0;34m:\u001b[0m\u001b[0;34m\u001b[0m\u001b[0;34m\u001b[0m\u001b[0m\n\u001b[0;32m----> 9\u001b[0;31m         \u001b[0;32mreturn\u001b[0m \u001b[0mself\u001b[0m\u001b[0;34m.\u001b[0m\u001b[0mas_text\u001b[0m\u001b[0;34m(\u001b[0m\u001b[0;34m)\u001b[0m\u001b[0;34m\u001b[0m\u001b[0;34m\u001b[0m\u001b[0m\n\u001b[0m\u001b[1;32m     10\u001b[0m \u001b[0;34m\u001b[0m\u001b[0m\n\u001b[1;32m     11\u001b[0m     \u001b[0;32mdef\u001b[0m \u001b[0m__repr__\u001b[0m\u001b[0;34m(\u001b[0m\u001b[0mself\u001b[0m\u001b[0;34m)\u001b[0m\u001b[0;34m:\u001b[0m\u001b[0;34m\u001b[0m\u001b[0;34m\u001b[0m\u001b[0m\n",
      "\u001b[0;32m<ipython-input-3-3b0b54cf7ef0>\u001b[0m in \u001b[0;36mas_text\u001b[0;34m(self)\u001b[0m\n\u001b[1;32m     25\u001b[0m         \u001b[0mextra_txt\u001b[0m \u001b[0;34m=\u001b[0m \u001b[0mself\u001b[0m\u001b[0;34m.\u001b[0m\u001b[0mextra_txt\u001b[0m\u001b[0;34m\u001b[0m\u001b[0;34m\u001b[0m\u001b[0m\n\u001b[1;32m     26\u001b[0m \u001b[0;34m\u001b[0m\u001b[0m\n\u001b[0;32m---> 27\u001b[0;31m         \u001b[0mpad_col\u001b[0m\u001b[0;34m,\u001b[0m \u001b[0mpad_index\u001b[0m\u001b[0;34m,\u001b[0m \u001b[0mwidest\u001b[0m \u001b[0;34m=\u001b[0m \u001b[0m_measure_tables\u001b[0m\u001b[0;34m(\u001b[0m\u001b[0mtables\u001b[0m\u001b[0;34m,\u001b[0m \u001b[0msettings\u001b[0m\u001b[0;34m)\u001b[0m\u001b[0;34m\u001b[0m\u001b[0;34m\u001b[0m\u001b[0m\n\u001b[0m\u001b[1;32m     28\u001b[0m \u001b[0;34m\u001b[0m\u001b[0m\n\u001b[1;32m     29\u001b[0m         \u001b[0mrule_equal\u001b[0m \u001b[0;34m=\u001b[0m \u001b[0mwidest\u001b[0m \u001b[0;34m*\u001b[0m \u001b[0;34m'='\u001b[0m\u001b[0;34m\u001b[0m\u001b[0;34m\u001b[0m\u001b[0m\n",
      "\u001b[0;32m<ipython-input-10-9bbf848c5900>\u001b[0m in \u001b[0;36m_measure_tables\u001b[0;34m(tables, settings)\u001b[0m\n\u001b[1;32m     16\u001b[0m     \u001b[0;32mfor\u001b[0m \u001b[0mi\u001b[0m \u001b[0;32min\u001b[0m \u001b[0mrange\u001b[0m\u001b[0;34m(\u001b[0m\u001b[0mlen\u001b[0m\u001b[0;34m(\u001b[0m\u001b[0mtab\u001b[0m\u001b[0;34m)\u001b[0m\u001b[0;34m)\u001b[0m\u001b[0;34m:\u001b[0m\u001b[0;34m\u001b[0m\u001b[0;34m\u001b[0m\u001b[0m\n\u001b[1;32m     17\u001b[0m         \u001b[0mnsep\u001b[0m \u001b[0;34m=\u001b[0m \u001b[0mtables\u001b[0m\u001b[0;34m[\u001b[0m\u001b[0mi\u001b[0m\u001b[0;34m]\u001b[0m\u001b[0;34m.\u001b[0m\u001b[0mshape\u001b[0m\u001b[0;34m[\u001b[0m\u001b[0;36m1\u001b[0m\u001b[0;34m]\u001b[0m \u001b[0;34m-\u001b[0m \u001b[0;36m1\u001b[0m\u001b[0;34m\u001b[0m\u001b[0;34m\u001b[0m\u001b[0m\n\u001b[0;32m---> 18\u001b[0;31m         \u001b[0mpad\u001b[0m \u001b[0;34m=\u001b[0m \u001b[0mint\u001b[0m\u001b[0;34m(\u001b[0m\u001b[0;34m(\u001b[0m\u001b[0mlen_max\u001b[0m \u001b[0;34m-\u001b[0m \u001b[0mlength\u001b[0m\u001b[0;34m[\u001b[0m\u001b[0mi\u001b[0m\u001b[0;34m]\u001b[0m\u001b[0;34m)\u001b[0m \u001b[0;34m/\u001b[0m \u001b[0mnsep\u001b[0m\u001b[0;34m)\u001b[0m\u001b[0;34m\u001b[0m\u001b[0;34m\u001b[0m\u001b[0m\n\u001b[0m\u001b[1;32m     19\u001b[0m         \u001b[0mpad_sep\u001b[0m\u001b[0;34m.\u001b[0m\u001b[0mappend\u001b[0m\u001b[0;34m(\u001b[0m\u001b[0mpad\u001b[0m\u001b[0;34m)\u001b[0m\u001b[0;34m\u001b[0m\u001b[0;34m\u001b[0m\u001b[0m\n\u001b[1;32m     20\u001b[0m         \u001b[0mlen_new\u001b[0m \u001b[0;34m=\u001b[0m \u001b[0mlength\u001b[0m\u001b[0;34m[\u001b[0m\u001b[0mi\u001b[0m\u001b[0;34m]\u001b[0m \u001b[0;34m+\u001b[0m \u001b[0mnsep\u001b[0m \u001b[0;34m*\u001b[0m \u001b[0mpad\u001b[0m\u001b[0;34m\u001b[0m\u001b[0;34m\u001b[0m\u001b[0m\n",
      "\u001b[0;31mZeroDivisionError\u001b[0m: division by zero"
     ]
    },
    {
     "data": {
      "text/html": [
       "<table class=\"simpletable\">\n",
       "<tr>\n",
       "      <td></td>      <th>Illiquidity-05</th>\n",
       "</tr>\n",
       "<tr>\n",
       "  <th>Intercept</th>    <td>0.0321***</td>  \n",
       "</tr>\n",
       "<tr>\n",
       "  <th></th>             <td>(0.0049)</td>   \n",
       "</tr>\n",
       "<tr>\n",
       "  <th>Post 1</th>        <td>0.0000</td>    \n",
       "</tr>\n",
       "<tr>\n",
       "  <th></th>             <td>(0.0001)</td>   \n",
       "</tr>\n",
       "</table>"
      ]
     },
     "execution_count": 13,
     "metadata": {},
     "output_type": "execute_result"
    }
   ],
   "source": [
    "# Post 1 \n",
    "result_post1 = []\n",
    "pbar = tqdm(['05'])#,'10','15','30','45','60'])\n",
    "for t in pbar:\n",
    "    phase_1 = pd.read_csv('/Volumes/LaCie/2020July/panel_analysis/%s/Phase_1.csv'%t)\n",
    "    phase_1.iloc[:,0] = pd.to_datetime(pd.Series(phase_1.iloc[:,0]))\n",
    "    mi_p1 = phase_1.set_index(['Code','DateTime'])\n",
    "    exog_var_1 = ['Post 1']\n",
    "    ind_var = sm.add_constant(mi_p1[exog_var_1])    # With constant\n",
    "#     ind_var=mi_p1[exog_var_1]    # Without constant\n",
    "    RE_mod_1 = RandomEffects(mi_p1['Illiquidity-%s'%t], ind_var)\n",
    "    RE_mod_1_res = RE_mod_1.fit()\n",
    "    result_post1.append(RE_mod_1_res)\n",
    "    \n",
    "exog_var = ['Intercept','Post 1']\n",
    "dfoutput_post1 = summary_col_panel(result_post1, xname=exog_var,stars=True)\n",
    "dfoutput_post1"
   ]
  },
  {
   "cell_type": "code",
   "execution_count": 14,
   "metadata": {
    "ExecuteTime": {
     "end_time": "2020-07-07T00:57:57.122502Z",
     "start_time": "2020-07-07T00:57:57.092082Z"
    }
   },
   "outputs": [
    {
     "data": {
      "text/plain": [
       "[                        RandomEffects Estimation Summary                        \n",
       " ================================================================================\n",
       " Dep. Variable:         Illiquidity-05   R-squared:                     3.775e-08\n",
       " Estimator:              RandomEffects   R-squared (Between):          -7.022e-07\n",
       " No. Observations:             6556442   R-squared (Within):            1.917e-08\n",
       " Date:                Tue, Jul 07 2020   R-squared (Overall):          -2.559e-07\n",
       " Time:                        09:57:56   Log-likelihood                  1.99e+06\n",
       " Cov. Estimator:            Unadjusted                                           \n",
       "                                         F-statistic:                      0.2475\n",
       " Entities:                          87   P-value                           0.6189\n",
       " Avg Obs:                    7.536e+04   Distribution:               F(1,6556440)\n",
       " Min Obs:                    7.244e+04                                           \n",
       " Max Obs:                    7.563e+04   F-statistic (robust):             0.1256\n",
       "                                         P-value                           0.7230\n",
       " Time periods:                   75628   Distribution:               F(1,6556440)\n",
       " Avg Obs:                       86.693                                           \n",
       " Min Obs:                       72.000                                           \n",
       " Max Obs:                       87.000                                           \n",
       "                                                                                 \n",
       "                              Parameter Estimates                              \n",
       " ==============================================================================\n",
       "             Parameter  Std. Err.     T-stat    P-value    Lower CI    Upper CI\n",
       " ------------------------------------------------------------------------------\n",
       " const          0.0321     0.0049     6.5921     0.0000      0.0226      0.0416\n",
       " Post 1      4.945e-05     0.0001     0.3544     0.7230     -0.0002      0.0003\n",
       " ==============================================================================\n",
       " RandomEffectsResults, id: 0x1c2b695198]"
      ]
     },
     "execution_count": 14,
     "metadata": {},
     "output_type": "execute_result"
    },
    {
     "data": {
      "application/javascript": [
       "$(document).ready(\n",
       "    function() {\n",
       "        function appendUniqueDiv(){\n",
       "            // append a div with our uuid so we can check that it's already\n",
       "            // been sent and avoid duplicates on page reload\n",
       "            var notifiedDiv = document.createElement(\"div\")\n",
       "            notifiedDiv.id = \"adecdc17-64d8-4ab9-af92-7734686cca40\"\n",
       "            element.append(notifiedDiv)\n",
       "        }\n",
       "\n",
       "        // only send notifications if the pageload is complete; this will\n",
       "        // help stop extra notifications when a saved notebook is loaded,\n",
       "        // which during testing gives us state \"interactive\", not \"complete\"\n",
       "        if (document.readyState === 'complete') {\n",
       "            // check for the div that signifies that the notification\n",
       "            // was already sent\n",
       "            if (document.getElementById(\"adecdc17-64d8-4ab9-af92-7734686cca40\") === null) {\n",
       "                var notificationPayload = {\"requireInteraction\": false, \"icon\": \"/static/base/images/favicon.ico\", \"body\": \"Cell execution has finished!\"};\n",
       "                if (Notification.permission !== 'denied') {\n",
       "                    if (Notification.permission !== 'granted') { \n",
       "                        Notification.requestPermission(function (permission) {\n",
       "                            if(!('permission' in Notification)) {\n",
       "                                Notification.permission = permission\n",
       "                            }\n",
       "                        })\n",
       "                    }\n",
       "                    if (Notification.permission === 'granted') {\n",
       "                    var notification = new Notification(\"Jupyter Notebook\", notificationPayload)\n",
       "                    appendUniqueDiv()\n",
       "                    notification.onclick = function () {\n",
       "                        window.focus();\n",
       "                        this.close();\n",
       "                        };\n",
       "                    } \n",
       "                }     \n",
       "            }\n",
       "        }\n",
       "    }\n",
       ")\n"
      ],
      "text/plain": [
       "<IPython.core.display.Javascript object>"
      ]
     },
     "metadata": {},
     "output_type": "display_data"
    }
   ],
   "source": [
    "%%notify\n",
    "result_post1"
   ]
  }
 ],
 "metadata": {
  "kernelspec": {
   "display_name": "Python 3",
   "language": "python",
   "name": "python3"
  },
  "language_info": {
   "codemirror_mode": {
    "name": "ipython",
    "version": 3
   },
   "file_extension": ".py",
   "mimetype": "text/x-python",
   "name": "python",
   "nbconvert_exporter": "python",
   "pygments_lexer": "ipython3",
   "version": "3.7.3"
  },
  "latex_envs": {
   "LaTeX_envs_menu_present": true,
   "autoclose": true,
   "autocomplete": true,
   "bibliofile": "biblio.bib",
   "cite_by": "apalike",
   "current_citInitial": 1,
   "eqLabelWithNumbers": true,
   "eqNumInitial": 1,
   "hotkeys": {
    "equation": "Ctrl-E",
    "itemize": "Ctrl-I"
   },
   "labels_anchors": false,
   "latex_user_defs": false,
   "report_style_numbering": false,
   "user_envs_cfg": false
  },
  "toc": {
   "base_numbering": 1,
   "nav_menu": {},
   "number_sections": true,
   "sideBar": false,
   "skip_h1_title": false,
   "title_cell": "Table of Contents",
   "title_sidebar": "Contents",
   "toc_cell": false,
   "toc_position": {},
   "toc_section_display": true,
   "toc_window_display": false
  }
 },
 "nbformat": 4,
 "nbformat_minor": 2
}
